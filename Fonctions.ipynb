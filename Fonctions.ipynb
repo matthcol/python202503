{
 "cells": [
  {
   "cell_type": "markdown",
   "id": "26449552-78aa-4153-8d15-f7a2a040a9cf",
   "metadata": {},
   "source": [
    "# Fonctions"
   ]
  },
  {
   "cell_type": "code",
   "execution_count": 2,
   "id": "09dc8ef5-1b45-4c68-a91d-c4f9c8a13aa9",
   "metadata": {},
   "outputs": [],
   "source": [
    "# definition de la fonction f à 1 paramètre obligatoire\n",
    "def f(x):\n",
    "    return x**2+1"
   ]
  },
  {
   "cell_type": "code",
   "execution_count": 3,
   "id": "e9629979-0935-4f80-9a3e-db705209d23e",
   "metadata": {},
   "outputs": [
    {
     "data": {
      "text/plain": [
       "10"
      ]
     },
     "execution_count": 3,
     "metadata": {},
     "output_type": "execute_result"
    }
   ],
   "source": [
    "# appel de la fonction f\n",
    "f(3)"
   ]
  },
  {
   "cell_type": "code",
   "execution_count": 4,
   "id": "91b6fa13-38d1-4713-8dde-38b50c16e504",
   "metadata": {},
   "outputs": [
    {
     "data": {
      "text/plain": [
       "13.25"
      ]
     },
     "execution_count": 4,
     "metadata": {},
     "output_type": "execute_result"
    }
   ],
   "source": [
    "f(3.5)"
   ]
  },
  {
   "cell_type": "code",
   "execution_count": 5,
   "id": "bd3a6d36-6d98-4c96-8b41-df2af37994b0",
   "metadata": {},
   "outputs": [],
   "source": [
    "# fonction à 3 paramètres obligatoires\n",
    "def code_city(city, department, counter):\n",
    "    a = city[:3].upper()\n",
    "    # return f\"{a}{counter}D{department}\"\n",
    "    return f\"{a:_<3}{counter:05d}D{department:03d}\""
   ]
  },
  {
   "cell_type": "code",
   "execution_count": 6,
   "id": "b9349cc6-278e-44e5-8a4d-bc31c73a783e",
   "metadata": {},
   "outputs": [
    {
     "name": "stdout",
     "output_type": "stream",
     "text": [
      "MON00123D034\n",
      "code: MON00123D034\n",
      "partie ville: MON\n",
      "partie dept: 034\n"
     ]
    }
   ],
   "source": [
    "code = code_city('Montpellier', 34, 123)\n",
    "print(code)\n",
    "print('code:', code)\n",
    "print('partie ville:', code[:3])\n",
    "print('partie dept:', code[-3:])"
   ]
  },
  {
   "cell_type": "code",
   "execution_count": 7,
   "id": "63006ea9-6be9-4f48-9f4f-bf542f7e4af7",
   "metadata": {},
   "outputs": [
    {
     "data": {
      "text/plain": [
       "'AY_00002D001'"
      ]
     },
     "execution_count": 7,
     "metadata": {},
     "output_type": "execute_result"
    }
   ],
   "source": [
    "code_city('Ay', 1, 2)"
   ]
  },
  {
   "cell_type": "code",
   "execution_count": 8,
   "id": "d393ec08-f7bb-4487-8a68-d0c48273e229",
   "metadata": {},
   "outputs": [
    {
     "data": {
      "text/plain": [
       "'___00002D001'"
      ]
     },
     "execution_count": 8,
     "metadata": {},
     "output_type": "execute_result"
    }
   ],
   "source": [
    "code_city('', 1, 2)"
   ]
  },
  {
   "cell_type": "code",
   "execution_count": 10,
   "id": "76071f76-5f08-4b28-adff-e74d53ff360e",
   "metadata": {},
   "outputs": [],
   "source": [
    "def list_append2(list_to_complete, value1, value2):\n",
    "    # add 2 values in the list\n",
    "    list_to_complete.append(value1)\n",
    "    list_to_complete.append(value2)\n",
    "    # return new length of the list\n",
    "    return len(list_to_complete)"
   ]
  },
  {
   "cell_type": "code",
   "execution_count": 12,
   "id": "9776cc1e-aca9-4ed1-8d49-041a439aa25b",
   "metadata": {},
   "outputs": [
    {
     "name": "stdout",
     "output_type": "stream",
     "text": [
      "4\n",
      "['Montpellier', 'Pau', 'Lyon', 'Lille']\n"
     ]
    }
   ],
   "source": [
    "villes = ['Montpellier', 'Pau']\n",
    "nb = list_append2(villes, 'Lyon', 'Lille')\n",
    "print('nouveau nombre de villes:', nb)\n",
    "print(villes)"
   ]
  },
  {
   "cell_type": "code",
   "execution_count": null,
   "id": "75bf6e6e-ef6f-418e-9d49-0315fb5322dd",
   "metadata": {},
   "outputs": [],
   "source": [
    "x = 4\n",
    "x += 2 # nouvel entier 6"
   ]
  },
  {
   "cell_type": "markdown",
   "id": "b06a716a-fc62-4818-b37d-b2fb4ca42c45",
   "metadata": {},
   "source": [
    "## Déclaration des types: Hints ou Annotation Type"
   ]
  },
  {
   "cell_type": "code",
   "execution_count": 15,
   "id": "50996638-cc27-4404-a3bb-00ad94c603f0",
   "metadata": {},
   "outputs": [],
   "source": [
    "def code_city(city: str, department: int, counter: int) -> str:\n",
    "    a = city[:3].upper()\n",
    "    # return f\"{a}{counter}D{department}\"\n",
    "    return f\"{a:_<3}{counter:05d}D{department:03d}\""
   ]
  },
  {
   "cell_type": "code",
   "execution_count": 17,
   "id": "4a72bcd6-9253-4087-9f74-5c25a52f722d",
   "metadata": {},
   "outputs": [
    {
     "data": {
      "text/plain": [
       "\u001b[1;31mSignature:\u001b[0m \u001b[0mcode_city\u001b[0m\u001b[1;33m(\u001b[0m\u001b[0mcity\u001b[0m\u001b[1;33m:\u001b[0m \u001b[0mstr\u001b[0m\u001b[1;33m,\u001b[0m \u001b[0mdepartment\u001b[0m\u001b[1;33m:\u001b[0m \u001b[0mint\u001b[0m\u001b[1;33m,\u001b[0m \u001b[0mcounter\u001b[0m\u001b[1;33m:\u001b[0m \u001b[0mint\u001b[0m\u001b[1;33m)\u001b[0m \u001b[1;33m->\u001b[0m \u001b[0mstr\u001b[0m\u001b[1;33m\u001b[0m\u001b[1;33m\u001b[0m\u001b[0m\n",
       "\u001b[1;31mDocstring:\u001b[0m <no docstring>\n",
       "\u001b[1;31mFile:\u001b[0m      c:\\users\\matth\\appdata\\local\\temp\\ipykernel_27416\\613197494.py\n",
       "\u001b[1;31mType:\u001b[0m      function"
      ]
     },
     "metadata": {},
     "output_type": "display_data"
    }
   ],
   "source": [
    "code_city?"
   ]
  },
  {
   "cell_type": "code",
   "execution_count": 20,
   "id": "605b4abe-5746-4b2a-bab1-5a04ef3c7305",
   "metadata": {},
   "outputs": [
    {
     "data": {
      "text/plain": [
       "'PAU00002D064'"
      ]
     },
     "execution_count": 20,
     "metadata": {},
     "output_type": "execute_result"
    }
   ],
   "source": [
    "code_city('Pau', 64, 2)"
   ]
  },
  {
   "cell_type": "code",
   "execution_count": 22,
   "id": "8a5377f5-5263-4c7b-b829-c6d1e8cda493",
   "metadata": {},
   "outputs": [
    {
     "ename": "ValueError",
     "evalue": "Unknown format code 'd' for object of type 'float'",
     "output_type": "error",
     "traceback": [
      "\u001b[1;31m---------------------------------------------------------------------------\u001b[0m",
      "\u001b[1;31mValueError\u001b[0m                                Traceback (most recent call last)",
      "Cell \u001b[1;32mIn[22], line 1\u001b[0m\n\u001b[1;32m----> 1\u001b[0m code_city(\u001b[38;5;124m'\u001b[39m\u001b[38;5;124mPau\u001b[39m\u001b[38;5;124m'\u001b[39m, \u001b[38;5;241m64.3\u001b[39m, \u001b[38;5;241m2\u001b[39m)\n",
      "Cell \u001b[1;32mIn[15], line 4\u001b[0m, in \u001b[0;36mcode_city\u001b[1;34m(city, department, counter)\u001b[0m\n\u001b[0;32m      2\u001b[0m a \u001b[38;5;241m=\u001b[39m city[:\u001b[38;5;241m3\u001b[39m]\u001b[38;5;241m.\u001b[39mupper()\n\u001b[0;32m      3\u001b[0m \u001b[38;5;66;03m# return f\"{a}{counter}D{department}\"\u001b[39;00m\n\u001b[1;32m----> 4\u001b[0m \u001b[38;5;28;01mreturn\u001b[39;00m \u001b[38;5;124mf\u001b[39m\u001b[38;5;124m\"\u001b[39m\u001b[38;5;132;01m{\u001b[39;00ma\u001b[38;5;132;01m:\u001b[39;00m\u001b[38;5;124m_<3\u001b[39m\u001b[38;5;132;01m}\u001b[39;00m\u001b[38;5;132;01m{\u001b[39;00mcounter\u001b[38;5;132;01m:\u001b[39;00m\u001b[38;5;124m05d\u001b[39m\u001b[38;5;132;01m}\u001b[39;00m\u001b[38;5;124mD\u001b[39m\u001b[38;5;132;01m{\u001b[39;00mdepartment\u001b[38;5;132;01m:\u001b[39;00m\u001b[38;5;124m03d\u001b[39m\u001b[38;5;132;01m}\u001b[39;00m\u001b[38;5;124m\"\u001b[39m\n",
      "\u001b[1;31mValueError\u001b[0m: Unknown format code 'd' for object of type 'float'"
     ]
    }
   ],
   "source": [
    "code_city('Pau', 64.3, 2)"
   ]
  }
 ],
 "metadata": {
  "kernelspec": {
   "display_name": "Python 3 (ipykernel)",
   "language": "python",
   "name": "python3"
  },
  "language_info": {
   "codemirror_mode": {
    "name": "ipython",
    "version": 3
   },
   "file_extension": ".py",
   "mimetype": "text/x-python",
   "name": "python",
   "nbconvert_exporter": "python",
   "pygments_lexer": "ipython3",
   "version": "3.12.3"
  }
 },
 "nbformat": 4,
 "nbformat_minor": 5
}
