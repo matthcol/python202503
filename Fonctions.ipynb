{
 "cells": [
  {
   "cell_type": "markdown",
   "id": "26449552-78aa-4153-8d15-f7a2a040a9cf",
   "metadata": {},
   "source": [
    "# Fonctions"
   ]
  },
  {
   "cell_type": "code",
   "execution_count": 2,
   "id": "09dc8ef5-1b45-4c68-a91d-c4f9c8a13aa9",
   "metadata": {},
   "outputs": [],
   "source": [
    "# definition de la fonction f à 1 paramètre obligatoire\n",
    "def f(x):\n",
    "    return x**2+1"
   ]
  },
  {
   "cell_type": "code",
   "execution_count": 39,
   "id": "e9629979-0935-4f80-9a3e-db705209d23e",
   "metadata": {},
   "outputs": [
    {
     "data": {
      "text/plain": [
       "10"
      ]
     },
     "execution_count": 39,
     "metadata": {},
     "output_type": "execute_result"
    }
   ],
   "source": [
    "# appel de la fonction f\n",
    "f(3)"
   ]
  },
  {
   "cell_type": "code",
   "execution_count": 4,
   "id": "91b6fa13-38d1-4713-8dde-38b50c16e504",
   "metadata": {},
   "outputs": [
    {
     "data": {
      "text/plain": [
       "13.25"
      ]
     },
     "execution_count": 4,
     "metadata": {},
     "output_type": "execute_result"
    }
   ],
   "source": [
    "f(3.5)"
   ]
  },
  {
   "cell_type": "code",
   "execution_count": 5,
   "id": "bd3a6d36-6d98-4c96-8b41-df2af37994b0",
   "metadata": {},
   "outputs": [],
   "source": [
    "# fonction à 3 paramètres obligatoires\n",
    "def code_city(city, department, counter):\n",
    "    a = city[:3].upper()\n",
    "    # return f\"{a}{counter}D{department}\"\n",
    "    return f\"{a:_<3}{counter:05d}D{department:03d}\""
   ]
  },
  {
   "cell_type": "code",
   "execution_count": 6,
   "id": "b9349cc6-278e-44e5-8a4d-bc31c73a783e",
   "metadata": {},
   "outputs": [
    {
     "name": "stdout",
     "output_type": "stream",
     "text": [
      "MON00123D034\n",
      "code: MON00123D034\n",
      "partie ville: MON\n",
      "partie dept: 034\n"
     ]
    }
   ],
   "source": [
    "code = code_city('Montpellier', 34, 123)\n",
    "print(code)\n",
    "print('code:', code)\n",
    "print('partie ville:', code[:3])\n",
    "print('partie dept:', code[-3:])"
   ]
  },
  {
   "cell_type": "code",
   "execution_count": 7,
   "id": "63006ea9-6be9-4f48-9f4f-bf542f7e4af7",
   "metadata": {},
   "outputs": [
    {
     "data": {
      "text/plain": [
       "'AY_00002D001'"
      ]
     },
     "execution_count": 7,
     "metadata": {},
     "output_type": "execute_result"
    }
   ],
   "source": [
    "code_city('Ay', 1, 2)"
   ]
  },
  {
   "cell_type": "code",
   "execution_count": 8,
   "id": "d393ec08-f7bb-4487-8a68-d0c48273e229",
   "metadata": {},
   "outputs": [
    {
     "data": {
      "text/plain": [
       "'___00002D001'"
      ]
     },
     "execution_count": 8,
     "metadata": {},
     "output_type": "execute_result"
    }
   ],
   "source": [
    "code_city('', 1, 2)"
   ]
  },
  {
   "cell_type": "code",
   "execution_count": 10,
   "id": "76071f76-5f08-4b28-adff-e74d53ff360e",
   "metadata": {},
   "outputs": [],
   "source": [
    "def list_append2(list_to_complete, value1, value2):\n",
    "    # add 2 values in the list\n",
    "    list_to_complete.append(value1)\n",
    "    list_to_complete.append(value2)\n",
    "    # return new length of the list\n",
    "    return len(list_to_complete)"
   ]
  },
  {
   "cell_type": "code",
   "execution_count": 12,
   "id": "9776cc1e-aca9-4ed1-8d49-041a439aa25b",
   "metadata": {},
   "outputs": [
    {
     "name": "stdout",
     "output_type": "stream",
     "text": [
      "4\n",
      "['Montpellier', 'Pau', 'Lyon', 'Lille']\n"
     ]
    }
   ],
   "source": [
    "villes = ['Montpellier', 'Pau']\n",
    "nb = list_append2(villes, 'Lyon', 'Lille')\n",
    "print('nouveau nombre de villes:', nb)\n",
    "print(villes)"
   ]
  },
  {
   "cell_type": "code",
   "execution_count": null,
   "id": "75bf6e6e-ef6f-418e-9d49-0315fb5322dd",
   "metadata": {},
   "outputs": [],
   "source": [
    "x = 4\n",
    "x += 2 # nouvel entier 6"
   ]
  },
  {
   "cell_type": "markdown",
   "id": "b06a716a-fc62-4818-b37d-b2fb4ca42c45",
   "metadata": {},
   "source": [
    "## Déclaration des types: Hints ou Annotation Type"
   ]
  },
  {
   "cell_type": "code",
   "execution_count": 15,
   "id": "50996638-cc27-4404-a3bb-00ad94c603f0",
   "metadata": {},
   "outputs": [],
   "source": [
    "def code_city(city: str, department: int, counter: int) -> str:\n",
    "    a = city[:3].upper()\n",
    "    # return f\"{a}{counter}D{department}\"\n",
    "    return f\"{a:_<3}{counter:05d}D{department:03d}\""
   ]
  },
  {
   "cell_type": "code",
   "execution_count": 17,
   "id": "4a72bcd6-9253-4087-9f74-5c25a52f722d",
   "metadata": {},
   "outputs": [
    {
     "data": {
      "text/plain": [
       "\u001b[1;31mSignature:\u001b[0m \u001b[0mcode_city\u001b[0m\u001b[1;33m(\u001b[0m\u001b[0mcity\u001b[0m\u001b[1;33m:\u001b[0m \u001b[0mstr\u001b[0m\u001b[1;33m,\u001b[0m \u001b[0mdepartment\u001b[0m\u001b[1;33m:\u001b[0m \u001b[0mint\u001b[0m\u001b[1;33m,\u001b[0m \u001b[0mcounter\u001b[0m\u001b[1;33m:\u001b[0m \u001b[0mint\u001b[0m\u001b[1;33m)\u001b[0m \u001b[1;33m->\u001b[0m \u001b[0mstr\u001b[0m\u001b[1;33m\u001b[0m\u001b[1;33m\u001b[0m\u001b[0m\n",
       "\u001b[1;31mDocstring:\u001b[0m <no docstring>\n",
       "\u001b[1;31mFile:\u001b[0m      c:\\users\\matth\\appdata\\local\\temp\\ipykernel_27416\\613197494.py\n",
       "\u001b[1;31mType:\u001b[0m      function"
      ]
     },
     "metadata": {},
     "output_type": "display_data"
    }
   ],
   "source": [
    "code_city?"
   ]
  },
  {
   "cell_type": "code",
   "execution_count": 20,
   "id": "605b4abe-5746-4b2a-bab1-5a04ef3c7305",
   "metadata": {},
   "outputs": [
    {
     "data": {
      "text/plain": [
       "'PAU00002D064'"
      ]
     },
     "execution_count": 20,
     "metadata": {},
     "output_type": "execute_result"
    }
   ],
   "source": [
    "code_city('Pau', 64, 2)"
   ]
  },
  {
   "cell_type": "code",
   "execution_count": 24,
   "id": "8a5377f5-5263-4c7b-b829-c6d1e8cda493",
   "metadata": {},
   "outputs": [],
   "source": [
    "# appel est autorisé mais le déroulé de la fonction échoue \n",
    "# pendant la fabrication de la f-string: \n",
    "# le format 05d n'est pas autorisé pour les float\n",
    "\n",
    "# code_city('Pau', 64.3, 2)"
   ]
  },
  {
   "cell_type": "markdown",
   "id": "aee87be4-ffcb-46b4-9c59-756c1fa41a1c",
   "metadata": {},
   "source": [
    "## Fonction ne renvoyant rien "
   ]
  },
  {
   "cell_type": "code",
   "execution_count": 45,
   "id": "f7f75a87-a8ab-4511-b655-a45f7949e94a",
   "metadata": {},
   "outputs": [],
   "source": [
    "def display_city_dict(city_d: dict) -> None:\n",
    "    print('Name:', city_d['name'])\n",
    "    print('Department:', city_d['department'])\n",
    "    print('Population:', city_d['population'])"
   ]
  },
  {
   "cell_type": "code",
   "execution_count": 31,
   "id": "72f159af-6d09-4014-ad9c-55e0ab892414",
   "metadata": {},
   "outputs": [
    {
     "name": "stdout",
     "output_type": "stream",
     "text": [
      "Name: Montpellier\n",
      "Department: 34\n",
      "Population: 300000\n"
     ]
    }
   ],
   "source": [
    "display_city_dict({'name': 'Montpellier', 'department': 34, 'population': 300_000})"
   ]
  },
  {
   "cell_type": "code",
   "execution_count": 33,
   "id": "d9efaeca-33ea-4b25-b917-dde423f03a88",
   "metadata": {},
   "outputs": [
    {
     "name": "stdout",
     "output_type": "stream",
     "text": [
      "Name: Montpellier\n",
      "Department: 34\n",
      "Population: 300000\n"
     ]
    }
   ],
   "source": [
    "res = display_city_dict({'name': 'Montpellier', 'department': 34, 'population': 300_000})\n",
    "res"
   ]
  },
  {
   "cell_type": "code",
   "execution_count": 41,
   "id": "ff82c704-cb8b-494c-b98e-67f4da0145f1",
   "metadata": {},
   "outputs": [],
   "source": [
    "res"
   ]
  },
  {
   "cell_type": "code",
   "execution_count": 35,
   "id": "eb92f88a-1308-49de-8f44-2474c6910799",
   "metadata": {},
   "outputs": [
    {
     "data": {
      "text/plain": [
       "True"
      ]
     },
     "execution_count": 35,
     "metadata": {},
     "output_type": "execute_result"
    }
   ],
   "source": [
    "res is None"
   ]
  },
  {
   "cell_type": "code",
   "execution_count": 43,
   "id": "d15b4cde-ff75-49a6-a6d7-bf213e38a5fa",
   "metadata": {},
   "outputs": [
    {
     "name": "stdout",
     "output_type": "stream",
     "text": [
      "Coucou\n"
     ]
    },
    {
     "data": {
      "text/plain": [
       "15132"
      ]
     },
     "execution_count": 43,
     "metadata": {},
     "output_type": "execute_result"
    }
   ],
   "source": [
    "print(\"Coucou\")\n",
    "3 + 123**2"
   ]
  },
  {
   "cell_type": "markdown",
   "id": "b25c2d9d-6b34-4495-a57e-0a8b994351c8",
   "metadata": {},
   "source": [
    "suite: fonction avec plusieurs résultats, résultat optional, paramètre optionnel"
   ]
  },
  {
   "cell_type": "code",
   "execution_count": 47,
   "id": "9aedb278-72a3-4165-89f9-61b788ebcca4",
   "metadata": {},
   "outputs": [],
   "source": [
    "def decode(code_city: str):\n",
    "    city_part = code_city[:3]\n",
    "    counter_part = code_city[3:8]\n",
    "    department_part = code_city[-3:]\n",
    "    return city_part, counter_part, department_part"
   ]
  },
  {
   "cell_type": "code",
   "execution_count": 49,
   "id": "f4d5adfa-d45d-42c5-84a9-408264ca736c",
   "metadata": {},
   "outputs": [
    {
     "data": {
      "text/plain": [
       "('MON', '00123', '034')"
      ]
     },
     "execution_count": 49,
     "metadata": {},
     "output_type": "execute_result"
    }
   ],
   "source": [
    "decode('MON00123D034')"
   ]
  },
  {
   "cell_type": "code",
   "execution_count": 51,
   "id": "2f083eb9-ddad-4aa1-bf7b-1b42988dbbdb",
   "metadata": {},
   "outputs": [
    {
     "name": "stdout",
     "output_type": "stream",
     "text": [
      "MON\n",
      "00123\n",
      "034\n"
     ]
    }
   ],
   "source": [
    "city, counter, dept = decode('MON00123D034')\n",
    "print(city)\n",
    "print(counter)\n",
    "print(dept)"
   ]
  },
  {
   "cell_type": "code",
   "execution_count": 53,
   "id": "99c5bd01-862d-46c2-a408-d4225365acc6",
   "metadata": {},
   "outputs": [
    {
     "data": {
      "text/plain": [
       "('AY_', '00123', '001')"
      ]
     },
     "execution_count": 53,
     "metadata": {},
     "output_type": "execute_result"
    }
   ],
   "source": [
    "decode('AY_00123D001')"
   ]
  }
 ],
 "metadata": {
  "kernelspec": {
   "display_name": "Python 3 (ipykernel)",
   "language": "python",
   "name": "python3"
  },
  "language_info": {
   "codemirror_mode": {
    "name": "ipython",
    "version": 3
   },
   "file_extension": ".py",
   "mimetype": "text/x-python",
   "name": "python",
   "nbconvert_exporter": "python",
   "pygments_lexer": "ipython3",
   "version": "3.12.3"
  }
 },
 "nbformat": 4,
 "nbformat_minor": 5
}
