{
 "cells": [
  {
   "cell_type": "code",
   "execution_count": 1,
   "id": "7e278ce5-f2a3-403b-9736-919d989a20b6",
   "metadata": {},
   "outputs": [],
   "source": [
    "from dataclasses import dataclass"
   ]
  },
  {
   "cell_type": "code",
   "execution_count": 5,
   "id": "964a91e0-77d6-418d-b4f2-f7434f9705e2",
   "metadata": {},
   "outputs": [],
   "source": [
    "@dataclass\n",
    "class Point:\n",
    "    x: float = 0.0\n",
    "    y: float = 0.0\n",
    "    name: str|None = None"
   ]
  },
  {
   "cell_type": "code",
   "execution_count": 7,
   "id": "eaba3b5e-6dd5-44b0-a911-503b975dfd02",
   "metadata": {},
   "outputs": [
    {
     "data": {
      "text/plain": [
       "Point(x=0.0, y=0.0, name=None)"
      ]
     },
     "execution_count": 7,
     "metadata": {},
     "output_type": "execute_result"
    }
   ],
   "source": [
    "pt1 = Point()\n",
    "pt1"
   ]
  },
  {
   "cell_type": "code",
   "execution_count": 9,
   "id": "db777320-633a-4e46-b592-020e70e861e7",
   "metadata": {},
   "outputs": [
    {
     "data": {
      "text/plain": [
       "[Point(x=0.0, y=0.0, name=None),\n",
       " Point(x=1.5, y=2.25, name='A'),\n",
       " Point(x=4.5, y=6.25, name='B'),\n",
       " Point(x=10.5, y=-1.25, name=None)]"
      ]
     },
     "execution_count": 9,
     "metadata": {},
     "output_type": "execute_result"
    }
   ],
   "source": [
    "points = [\n",
    "    Point(),\n",
    "    Point(1.5, 2.25, 'A'),\n",
    "    Point(x=4.5, y=6.25, name='B'),\n",
    "    Point(x=10.5, y=-1.25),\n",
    "]\n",
    "points"
   ]
  }
 ],
 "metadata": {
  "kernelspec": {
   "display_name": "Python 3 (ipykernel)",
   "language": "python",
   "name": "python3"
  },
  "language_info": {
   "codemirror_mode": {
    "name": "ipython",
    "version": 3
   },
   "file_extension": ".py",
   "mimetype": "text/x-python",
   "name": "python",
   "nbconvert_exporter": "python",
   "pygments_lexer": "ipython3",
   "version": "3.12.3"
  }
 },
 "nbformat": 4,
 "nbformat_minor": 5
}
