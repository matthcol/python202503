{
 "cells": [
  {
   "cell_type": "markdown",
   "id": "54020c66-ccae-4b97-b7d6-75427bd2b456",
   "metadata": {},
   "source": [
    "# Conteneurs Python\n",
    "- listes: type list []\n",
    "- tuples: type tuple ()\n",
    "- ensembles: type set {}\n",
    "- dictionnaires: type dict {}"
   ]
  },
  {
   "cell_type": "markdown",
   "id": "693b1ff3-bc50-4b84-8e3e-2c5cad53cde2",
   "metadata": {},
   "source": [
    "## Listes"
   ]
  },
  {
   "cell_type": "markdown",
   "id": "52138a11-1370-4095-8fa0-af0025b494b3",
   "metadata": {},
   "source": [
    "### Création"
   ]
  },
  {
   "cell_type": "code",
   "execution_count": 4,
   "id": "d702880b-cfbe-4050-9dd9-57c50809412b",
   "metadata": {},
   "outputs": [
    {
     "data": {
      "text/plain": [
       "['Montpellier', 'Pau', 'Toulouse', \"L'Haÿ-les-Roses\", 'La Châtre']"
      ]
     },
     "execution_count": 4,
     "metadata": {},
     "output_type": "execute_result"
    }
   ],
   "source": [
    "villes = [\"Montpellier\", \"Pau\", \"Toulouse\", \"L'Haÿ-les-Roses\", \"La Châtre\"]\n",
    "villes"
   ]
  },
  {
   "cell_type": "code",
   "execution_count": 5,
   "id": "c823d57c-1671-4374-b7b8-ec2bac3eeb4b",
   "metadata": {},
   "outputs": [
    {
     "data": {
      "text/plain": [
       "list"
      ]
     },
     "execution_count": 5,
     "metadata": {},
     "output_type": "execute_result"
    }
   ],
   "source": [
    "type(villes)"
   ]
  },
  {
   "cell_type": "markdown",
   "id": "21be0971-a36f-4874-aab4-0679841dfea9",
   "metadata": {},
   "source": [
    "### Accès"
   ]
  },
  {
   "cell_type": "code",
   "execution_count": 7,
   "id": "db7d7f95-c969-481c-8eb0-7c93844a5584",
   "metadata": {},
   "outputs": [
    {
     "data": {
      "text/plain": [
       "'Montpellier'"
      ]
     },
     "execution_count": 7,
     "metadata": {},
     "output_type": "execute_result"
    }
   ],
   "source": [
    "# 1er élément de la liste: position 0\n",
    "villes[0]"
   ]
  },
  {
   "cell_type": "code",
   "execution_count": 8,
   "id": "749f9d91-87c3-4a8a-b2e8-7608baec9a48",
   "metadata": {},
   "outputs": [
    {
     "data": {
      "text/plain": [
       "'La Châtre'"
      ]
     },
     "execution_count": 8,
     "metadata": {},
     "output_type": "execute_result"
    }
   ],
   "source": [
    "# dernier élément\n",
    "villes[-1]"
   ]
  },
  {
   "cell_type": "code",
   "execution_count": 9,
   "id": "31bbe2bc-b169-45b1-ad0e-193f491bc6a6",
   "metadata": {},
   "outputs": [
    {
     "data": {
      "text/plain": [
       "['Montpellier', 'Pau', 'Toulouse']"
      ]
     },
     "execution_count": 9,
     "metadata": {},
     "output_type": "execute_result"
    }
   ],
   "source": [
    "# slices => sous liste\n",
    "villes[:3]"
   ]
  },
  {
   "cell_type": "code",
   "execution_count": 10,
   "id": "e95cda54-2fb8-4c89-9705-73c012290ecc",
   "metadata": {},
   "outputs": [
    {
     "data": {
      "text/plain": [
       "['Toulouse', \"L'Haÿ-les-Roses\", 'La Châtre']"
      ]
     },
     "execution_count": 10,
     "metadata": {},
     "output_type": "execute_result"
    }
   ],
   "source": [
    "villes[-3:]"
   ]
  },
  {
   "cell_type": "code",
   "execution_count": 11,
   "id": "9cfc0da0-65f4-4dfb-8bf2-548b5243ece4",
   "metadata": {},
   "outputs": [
    {
     "data": {
      "text/plain": [
       "5"
      ]
     },
     "execution_count": 11,
     "metadata": {},
     "output_type": "execute_result"
    }
   ],
   "source": [
    "len(villes)"
   ]
  },
  {
   "cell_type": "markdown",
   "id": "befb09a9-8b3d-4765-b65e-4a0bd840ac77",
   "metadata": {},
   "source": [
    "### Modifications avec 1 méthode"
   ]
  },
  {
   "cell_type": "code",
   "execution_count": 13,
   "id": "940c45f3-3bc6-4ad4-9672-19ac18cd6771",
   "metadata": {},
   "outputs": [
    {
     "data": {
      "text/plain": [
       "['Montpellier', 'Pau', 'Toulouse', \"L'Haÿ-les-Roses\", 'La Châtre', 'Limoges']"
      ]
     },
     "execution_count": 13,
     "metadata": {},
     "output_type": "execute_result"
    }
   ],
   "source": [
    "villes.append('Limoges')\n",
    "villes"
   ]
  },
  {
   "cell_type": "code",
   "execution_count": 14,
   "id": "74334adb-b9a7-44c2-a92e-cf8a5a06c511",
   "metadata": {},
   "outputs": [
    {
     "data": {
      "text/plain": [
       "['Montpellier',\n",
       " 'Pau',\n",
       " 'Saint-Rémy-en-Bouzemont-Saint-Genest-et-Isson',\n",
       " 'Toulouse',\n",
       " \"L'Haÿ-les-Roses\",\n",
       " 'La Châtre',\n",
       " 'Limoges']"
      ]
     },
     "execution_count": 14,
     "metadata": {},
     "output_type": "execute_result"
    }
   ],
   "source": [
    "villes.insert(2, 'Saint-Rémy-en-Bouzemont-Saint-Genest-et-Isson')\n",
    "villes"
   ]
  },
  {
   "cell_type": "code",
   "execution_count": 15,
   "id": "5389c15d-bd81-4f43-88f9-3600ffcd0e89",
   "metadata": {},
   "outputs": [
    {
     "data": {
      "text/plain": [
       "['Montpellier',\n",
       " 'Pau',\n",
       " 'Saint-Rémy-en-Bouzemont-Saint-Genest-et-Isson',\n",
       " 'Toulouse',\n",
       " \"L'Haÿ-les-Roses\",\n",
       " 'La Châtre',\n",
       " 'Limoges',\n",
       " 'Mittelbergheim',\n",
       " 'Fontainebleau']"
      ]
     },
     "execution_count": 15,
     "metadata": {},
     "output_type": "execute_result"
    }
   ],
   "source": [
    "villes_a_ajouter = [\"Mittelbergheim\", \"Fontainebleau\"]\n",
    "villes.extend(villes_a_ajouter)\n",
    "villes"
   ]
  },
  {
   "cell_type": "code",
   "execution_count": 16,
   "id": "291db3c3-3b1d-4c20-85c3-8c9262cdd517",
   "metadata": {},
   "outputs": [
    {
     "data": {
      "text/plain": [
       "['Montpellier',\n",
       " 'Saint-Rémy-en-Bouzemont-Saint-Genest-et-Isson',\n",
       " 'Toulouse',\n",
       " \"L'Haÿ-les-Roses\",\n",
       " 'La Châtre',\n",
       " 'Limoges',\n",
       " 'Mittelbergheim',\n",
       " 'Fontainebleau']"
      ]
     },
     "execution_count": 16,
     "metadata": {},
     "output_type": "execute_result"
    }
   ],
   "source": [
    "del villes[1]\n",
    "villes"
   ]
  },
  {
   "cell_type": "code",
   "execution_count": 17,
   "id": "c28d13a1-9aa6-47ea-b68a-5228cb96d705",
   "metadata": {},
   "outputs": [
    {
     "data": {
      "text/plain": [
       "[]"
      ]
     },
     "execution_count": 17,
     "metadata": {},
     "output_type": "execute_result"
    }
   ],
   "source": [
    "# Vider toute la liste\n",
    "villes_a_ajouter.clear()\n",
    "villes_a_ajouter"
   ]
  },
  {
   "cell_type": "code",
   "execution_count": 18,
   "id": "456f6656-5fe8-4258-86d8-be520844807a",
   "metadata": {},
   "outputs": [
    {
     "data": {
      "text/plain": [
       "['Montpellier',\n",
       " 'Saint-Rémy-en-Bouzemont-Saint-Genest-et-Isson',\n",
       " 'Toulouse',\n",
       " \"L'Haÿ-les-Roses\",\n",
       " 'La Châtre',\n",
       " 'Mittelbergheim',\n",
       " 'Fontainebleau']"
      ]
     },
     "execution_count": 18,
     "metadata": {},
     "output_type": "execute_result"
    }
   ],
   "source": [
    "villes.remove('Limoges')\n",
    "villes"
   ]
  },
  {
   "cell_type": "markdown",
   "id": "b8f8017a-c88a-48ef-b06b-e3e120b93698",
   "metadata": {},
   "source": [
    "### Récupération d'exception\n",
    "structure try ... except\n",
    "\n",
    "liste des exceptions natives: https://docs.python.org/3.12/library/exceptions.html"
   ]
  },
  {
   "cell_type": "code",
   "execution_count": 20,
   "id": "327e801f-776c-42ee-bd42-5580454a599c",
   "metadata": {},
   "outputs": [
    {
     "name": "stdout",
     "output_type": "stream",
     "text": [
      "Limoges n'est pas dans la liste\n"
     ]
    }
   ],
   "source": [
    "try:\n",
    "    villes.remove('Limoges')\n",
    "    print(\"Limoges a été supprimé de la liste\")\n",
    "except:\n",
    "    print(\"Limoges n'est pas dans la liste\")"
   ]
  },
  {
   "cell_type": "code",
   "execution_count": 21,
   "id": "6236b217-163e-4eb1-90df-7b96c62e7d6a",
   "metadata": {},
   "outputs": [
    {
     "name": "stdout",
     "output_type": "stream",
     "text": [
      "Limoges n'est pas dans la liste\n",
      "Raison : list.remove(x): x not in list\n"
     ]
    }
   ],
   "source": [
    "try:\n",
    "    villes.remove('Limoges')\n",
    "    print(\"Limoges a été supprimé de la liste\")\n",
    "except ValueError as ex:\n",
    "    print(\"Limoges n'est pas dans la liste\")\n",
    "    print(\"Raison :\", ex)"
   ]
  },
  {
   "cell_type": "markdown",
   "id": "988e9f5f-2f95-4a6b-ab21-f03e8261792f",
   "metadata": {},
   "source": [
    "### Modification avec l'operateur []\n",
    "- 1 index\n",
    "- 1 slice"
   ]
  },
  {
   "cell_type": "code",
   "execution_count": 23,
   "id": "63dc5def-2b8b-46a1-8045-6c14a120e872",
   "metadata": {},
   "outputs": [
    {
     "name": "stdout",
     "output_type": "stream",
     "text": [
      "['Montpellier', 'Saint-Rémy-en-Bouzemont-Saint-Genest-et-Isson', 'Toulouse', \"L'Haÿ-les-Roses\", 'La Châtre', 'Mittelbergheim', 'Fontainebleau']\n",
      "['Montpellier', 'Saint-Rémy-en-Bouzemont-Saint-Genest-et-Isson', 'Montcuq', \"L'Haÿ-les-Roses\", 'La Châtre', 'Mittelbergheim', 'Fontainebleau']\n"
     ]
    }
   ],
   "source": [
    "print(villes)\n",
    "villes[2] = 'Montcuq'\n",
    "print(villes)"
   ]
  },
  {
   "cell_type": "code",
   "execution_count": 24,
   "id": "fc8880d1-f658-4d71-a08a-20dc64b8c04a",
   "metadata": {},
   "outputs": [
    {
     "data": {
      "text/plain": [
       "['Toulouse',\n",
       " 'Pau',\n",
       " 'Montcuq',\n",
       " \"L'Haÿ-les-Roses\",\n",
       " 'La Châtre',\n",
       " 'Mittelbergheim',\n",
       " 'Fontainebleau']"
      ]
     },
     "execution_count": 24,
     "metadata": {},
     "output_type": "execute_result"
    }
   ],
   "source": [
    "# remplacement de 2 villes par 2 autres\n",
    "villes[:2] = ['Toulouse', 'Pau']\n",
    "villes"
   ]
  },
  {
   "cell_type": "code",
   "execution_count": 25,
   "id": "6f1767c1-1b9c-4095-a53e-201f7d30ef71",
   "metadata": {},
   "outputs": [
    {
     "data": {
      "text/plain": [
       "['Toulouse',\n",
       " 'Montpellier',\n",
       " 'Saint-Rémy-en-Bouzemont-Saint-Genest-et-Isson',\n",
       " 'Lyon',\n",
       " \"L'Haÿ-les-Roses\",\n",
       " 'La Châtre',\n",
       " 'Mittelbergheim',\n",
       " 'Fontainebleau']"
      ]
     },
     "execution_count": 25,
     "metadata": {},
     "output_type": "execute_result"
    }
   ],
   "source": [
    "# remplacement de 2 villes par 3 autres\n",
    "villes[1:3] = ['Montpellier', 'Saint-Rémy-en-Bouzemont-Saint-Genest-et-Isson', 'Lyon']\n",
    "villes"
   ]
  },
  {
   "cell_type": "code",
   "execution_count": 26,
   "id": "1301d5e5-e4fa-43b8-90b0-59a49c54564a",
   "metadata": {},
   "outputs": [
    {
     "data": {
      "text/plain": [
       "['Toulouse',\n",
       " 'Montpellier',\n",
       " 'Saint-Rémy-en-Bouzemont-Saint-Genest-et-Isson',\n",
       " 'Lyon',\n",
       " \"L'Haÿ-les-Roses\",\n",
       " 'Lille']"
      ]
     },
     "execution_count": 26,
     "metadata": {},
     "output_type": "execute_result"
    }
   ],
   "source": [
    "# remplacement de 3 villes par 1 autre\n",
    "villes[-3:]=['Lille']\n",
    "villes"
   ]
  },
  {
   "cell_type": "code",
   "execution_count": 27,
   "id": "99f3b28e-1e12-4929-a04e-21caaccc03f7",
   "metadata": {},
   "outputs": [
    {
     "data": {
      "text/plain": [
       "['Toulouse', 'Montpellier', 'Saint-Rémy-en-Bouzemont-Saint-Genest-et-Isson']"
      ]
     },
     "execution_count": 27,
     "metadata": {},
     "output_type": "execute_result"
    }
   ],
   "source": [
    "# suppression avec slice\n",
    "del villes[-3:]\n",
    "villes"
   ]
  },
  {
   "cell_type": "markdown",
   "id": "815dc82f-5b23-4b5d-b6ee-a39863b18450",
   "metadata": {},
   "source": [
    "### Liste hétérogène\n",
    "rare => privilégier les tuples ou dictionnaires"
   ]
  },
  {
   "cell_type": "code",
   "execution_count": 29,
   "id": "0b6ac1c9-6108-4423-a3e1-ab1e9971811a",
   "metadata": {},
   "outputs": [
    {
     "data": {
      "text/plain": [
       "['Montpellier', 34, 12.3, False, None, [1, 2, 3]]"
      ]
     },
     "execution_count": 29,
     "metadata": {},
     "output_type": "execute_result"
    }
   ],
   "source": [
    "valeurs = ['Montpellier', 34, 12.3, False, None, [1,2,3]]\n",
    "valeurs"
   ]
  },
  {
   "cell_type": "markdown",
   "id": "1b929df9-f4c6-4648-a0c6-0b4ed89e6699",
   "metadata": {},
   "source": [
    "## Boucle for\n",
    "On peut parcourir tout objet 'iterable': str, list, tuple, set, dict, numpy.ndarray, ..."
   ]
  },
  {
   "cell_type": "code",
   "execution_count": 54,
   "id": "65fc7061-855c-43bc-b884-80482da390fd",
   "metadata": {},
   "outputs": [
    {
     "name": "stdout",
     "output_type": "stream",
     "text": [
      "Toulouse\n",
      "Montpellier\n",
      "Saint-Rémy-en-Bouzemont-Saint-Genest-et-Isson\n"
     ]
    }
   ],
   "source": [
    "# type list: itération sur les éléments de la liste\n",
    "for ville in villes:\n",
    "    print(ville)"
   ]
  },
  {
   "cell_type": "code",
   "execution_count": 73,
   "id": "1ccb2a8d-e854-4157-9fb7-fb3cd8e29f37",
   "metadata": {},
   "outputs": [],
   "source": [
    "# # TypeError: 'int' object is not iterable\n",
    "# for x in 123456:\n",
    "#     print(x)"
   ]
  },
  {
   "cell_type": "code",
   "execution_count": 75,
   "id": "f981c224-681c-4250-91e2-348e9d2fcc79",
   "metadata": {},
   "outputs": [
    {
     "name": "stdout",
     "output_type": "stream",
     "text": [
      "S | a | i | n | t | - | R | é | m | y | - | e | n | - | B | o | u | z | e | m | o | n | t | - | S | a | i | n | t | - | G | e | n | e | s | t | - | e | t | - | I | s | s | o | n | "
     ]
    }
   ],
   "source": [
    "# type str: itération sur les caractères de la chaîne\n",
    "nom_ville = villes[-1]\n",
    "for lettre in nom_ville:\n",
    "    print(lettre, end=' | ')"
   ]
  },
  {
   "cell_type": "code",
   "execution_count": 79,
   "id": "3de26733-35c1-49b5-b2eb-2d5c3e76c745",
   "metadata": {},
   "outputs": [
    {
     "name": "stdout",
     "output_type": "stream",
     "text": [
      "0\n",
      "1\n",
      "2\n",
      "3\n",
      "4\n"
     ]
    }
   ],
   "source": [
    "for i in range(5): # de 0 (inclus) à 5 (exclus)\n",
    "    print(i)"
   ]
  },
  {
   "cell_type": "code",
   "execution_count": 81,
   "id": "53db1d7d-7c59-40fb-9fdf-950dc27adecc",
   "metadata": {},
   "outputs": [
    {
     "name": "stdout",
     "output_type": "stream",
     "text": [
      "1\n",
      "2\n",
      "3\n",
      "4\n",
      "5\n"
     ]
    }
   ],
   "source": [
    "for i in range(1, 6): # de 1 (inclus) à 6 (exclus)\n",
    "    print(i)"
   ]
  },
  {
   "cell_type": "code",
   "execution_count": 85,
   "id": "dac3a909-0097-46b8-b0de-5a5a4774c9af",
   "metadata": {},
   "outputs": [
    {
     "name": "stdout",
     "output_type": "stream",
     "text": [
      "0\n",
      "10\n",
      "20\n",
      "30\n",
      "40\n"
     ]
    }
   ],
   "source": [
    "for i in range(0, 50, 10): # de 0 (inclus) à 50 (exclus) par pas de 10\n",
    "    print(i)"
   ]
  },
  {
   "cell_type": "code",
   "execution_count": 87,
   "id": "6e76a289-89b7-4719-a189-7cf755da2e2b",
   "metadata": {},
   "outputs": [
    {
     "data": {
      "text/plain": [
       "range(0, 50, 10)"
      ]
     },
     "execution_count": 87,
     "metadata": {},
     "output_type": "execute_result"
    }
   ],
   "source": [
    "# Python 3: la fonction range renvoie un petit objet décrivant l'intervalle\n",
    "# Python 2.7 => liste [0,10,20,30,40]\n",
    "r = range(0,50,10)\n",
    "r"
   ]
  },
  {
   "cell_type": "code",
   "execution_count": 91,
   "id": "e089a3d4-855d-43e5-a889-7032ccd9f76e",
   "metadata": {},
   "outputs": [
    {
     "data": {
      "text/plain": [
       "[0, 10, 20, 30, 40]"
      ]
     },
     "execution_count": 91,
     "metadata": {},
     "output_type": "execute_result"
    }
   ],
   "source": [
    "# la fonction list convertit 1 objet iterable en liste\n",
    "list(range(0,50,10))"
   ]
  },
  {
   "cell_type": "code",
   "execution_count": 95,
   "id": "de6cc8e9-f0d3-461a-bfc5-6efeb6d43c1f",
   "metadata": {
    "collapsed": true,
    "jupyter": {
     "outputs_hidden": true
    },
    "scrolled": true
   },
   "outputs": [
    {
     "data": {
      "text/plain": [
       "['S',\n",
       " 'a',\n",
       " 'i',\n",
       " 'n',\n",
       " 't',\n",
       " '-',\n",
       " 'R',\n",
       " 'é',\n",
       " 'm',\n",
       " 'y',\n",
       " '-',\n",
       " 'e',\n",
       " 'n',\n",
       " '-',\n",
       " 'B',\n",
       " 'o',\n",
       " 'u',\n",
       " 'z',\n",
       " 'e',\n",
       " 'm',\n",
       " 'o',\n",
       " 'n',\n",
       " 't',\n",
       " '-',\n",
       " 'S',\n",
       " 'a',\n",
       " 'i',\n",
       " 'n',\n",
       " 't',\n",
       " '-',\n",
       " 'G',\n",
       " 'e',\n",
       " 'n',\n",
       " 'e',\n",
       " 's',\n",
       " 't',\n",
       " '-',\n",
       " 'e',\n",
       " 't',\n",
       " '-',\n",
       " 'I',\n",
       " 's',\n",
       " 's',\n",
       " 'o',\n",
       " 'n']"
      ]
     },
     "execution_count": 95,
     "metadata": {},
     "output_type": "execute_result"
    }
   ],
   "source": [
    "list(nom_ville)"
   ]
  },
  {
   "cell_type": "markdown",
   "id": "d4707990-4bf7-4e01-b608-0acb2c0cfba8",
   "metadata": {},
   "source": [
    "### Exercice 1\n",
    "Afficher chaque ville en majuscule et entre parenthèse son nombre de lettre"
   ]
  },
  {
   "cell_type": "code",
   "execution_count": 105,
   "id": "bcaed43d-702b-4107-ba35-70f4c0b0bdb1",
   "metadata": {},
   "outputs": [],
   "source": [
    "villes = [\n",
    "    'Toulouse',\n",
    "     'Montpellier',\n",
    "     'Saint-Rémy-en-Bouzemont-Saint-Genest-et-Isson',\n",
    "     'Lyon',\n",
    "     \"L'Haÿ-les-Roses\",\n",
    "     'La Châtre',\n",
    "     'Mittelbergheim',\n",
    "     'Fontainebleau'\n",
    "]"
   ]
  },
  {
   "cell_type": "markdown",
   "id": "c6b98bc3-038d-4c21-8334-7ee84085df0e",
   "metadata": {},
   "source": [
    "### Exercice 2\n",
    "Récupérer dans une liste les villes de moins de 10 lettres"
   ]
  }
 ],
 "metadata": {
  "kernelspec": {
   "display_name": "Python 3 (ipykernel)",
   "language": "python",
   "name": "python3"
  },
  "language_info": {
   "codemirror_mode": {
    "name": "ipython",
    "version": 3
   },
   "file_extension": ".py",
   "mimetype": "text/x-python",
   "name": "python",
   "nbconvert_exporter": "python",
   "pygments_lexer": "ipython3",
   "version": "3.12.3"
  }
 },
 "nbformat": 4,
 "nbformat_minor": 5
}
