{
 "cells": [
  {
   "cell_type": "markdown",
   "id": "54020c66-ccae-4b97-b7d6-75427bd2b456",
   "metadata": {},
   "source": [
    "# Conteneurs Python\n",
    "- listes: type list []\n",
    "- tuples: type tuple ()\n",
    "- dictionnaires: type dict {}\n",
    "- ensembles: type set {}"
   ]
  },
  {
   "cell_type": "markdown",
   "id": "693b1ff3-bc50-4b84-8e3e-2c5cad53cde2",
   "metadata": {},
   "source": [
    "## Listes"
   ]
  },
  {
   "cell_type": "markdown",
   "id": "52138a11-1370-4095-8fa0-af0025b494b3",
   "metadata": {},
   "source": [
    "### Création"
   ]
  },
  {
   "cell_type": "code",
   "execution_count": 4,
   "id": "d702880b-cfbe-4050-9dd9-57c50809412b",
   "metadata": {},
   "outputs": [
    {
     "data": {
      "text/plain": [
       "['Montpellier', 'Pau', 'Toulouse', \"L'Haÿ-les-Roses\", 'La Châtre']"
      ]
     },
     "execution_count": 4,
     "metadata": {},
     "output_type": "execute_result"
    }
   ],
   "source": [
    "villes = [\"Montpellier\", \"Pau\", \"Toulouse\", \"L'Haÿ-les-Roses\", \"La Châtre\"]\n",
    "villes"
   ]
  },
  {
   "cell_type": "code",
   "execution_count": 5,
   "id": "c823d57c-1671-4374-b7b8-ec2bac3eeb4b",
   "metadata": {},
   "outputs": [
    {
     "data": {
      "text/plain": [
       "list"
      ]
     },
     "execution_count": 5,
     "metadata": {},
     "output_type": "execute_result"
    }
   ],
   "source": [
    "type(villes)"
   ]
  },
  {
   "cell_type": "markdown",
   "id": "21be0971-a36f-4874-aab4-0679841dfea9",
   "metadata": {},
   "source": [
    "### Accès"
   ]
  },
  {
   "cell_type": "code",
   "execution_count": 7,
   "id": "db7d7f95-c969-481c-8eb0-7c93844a5584",
   "metadata": {},
   "outputs": [
    {
     "data": {
      "text/plain": [
       "'Montpellier'"
      ]
     },
     "execution_count": 7,
     "metadata": {},
     "output_type": "execute_result"
    }
   ],
   "source": [
    "# 1er élément de la liste: position 0\n",
    "villes[0]"
   ]
  },
  {
   "cell_type": "code",
   "execution_count": 8,
   "id": "749f9d91-87c3-4a8a-b2e8-7608baec9a48",
   "metadata": {},
   "outputs": [
    {
     "data": {
      "text/plain": [
       "'La Châtre'"
      ]
     },
     "execution_count": 8,
     "metadata": {},
     "output_type": "execute_result"
    }
   ],
   "source": [
    "# dernier élément\n",
    "villes[-1]"
   ]
  },
  {
   "cell_type": "code",
   "execution_count": 9,
   "id": "31bbe2bc-b169-45b1-ad0e-193f491bc6a6",
   "metadata": {},
   "outputs": [
    {
     "data": {
      "text/plain": [
       "['Montpellier', 'Pau', 'Toulouse']"
      ]
     },
     "execution_count": 9,
     "metadata": {},
     "output_type": "execute_result"
    }
   ],
   "source": [
    "# slices => sous liste\n",
    "villes[:3]"
   ]
  },
  {
   "cell_type": "code",
   "execution_count": 10,
   "id": "e95cda54-2fb8-4c89-9705-73c012290ecc",
   "metadata": {},
   "outputs": [
    {
     "data": {
      "text/plain": [
       "['Toulouse', \"L'Haÿ-les-Roses\", 'La Châtre']"
      ]
     },
     "execution_count": 10,
     "metadata": {},
     "output_type": "execute_result"
    }
   ],
   "source": [
    "villes[-3:]"
   ]
  },
  {
   "cell_type": "code",
   "execution_count": 11,
   "id": "9cfc0da0-65f4-4dfb-8bf2-548b5243ece4",
   "metadata": {},
   "outputs": [
    {
     "data": {
      "text/plain": [
       "5"
      ]
     },
     "execution_count": 11,
     "metadata": {},
     "output_type": "execute_result"
    }
   ],
   "source": [
    "len(villes)"
   ]
  },
  {
   "cell_type": "markdown",
   "id": "befb09a9-8b3d-4765-b65e-4a0bd840ac77",
   "metadata": {},
   "source": [
    "### Modifications avec 1 méthode"
   ]
  },
  {
   "cell_type": "code",
   "execution_count": 13,
   "id": "940c45f3-3bc6-4ad4-9672-19ac18cd6771",
   "metadata": {},
   "outputs": [
    {
     "data": {
      "text/plain": [
       "['Montpellier', 'Pau', 'Toulouse', \"L'Haÿ-les-Roses\", 'La Châtre', 'Limoges']"
      ]
     },
     "execution_count": 13,
     "metadata": {},
     "output_type": "execute_result"
    }
   ],
   "source": [
    "villes.append('Limoges')\n",
    "villes"
   ]
  },
  {
   "cell_type": "code",
   "execution_count": 14,
   "id": "74334adb-b9a7-44c2-a92e-cf8a5a06c511",
   "metadata": {},
   "outputs": [
    {
     "data": {
      "text/plain": [
       "['Montpellier',\n",
       " 'Pau',\n",
       " 'Saint-Rémy-en-Bouzemont-Saint-Genest-et-Isson',\n",
       " 'Toulouse',\n",
       " \"L'Haÿ-les-Roses\",\n",
       " 'La Châtre',\n",
       " 'Limoges']"
      ]
     },
     "execution_count": 14,
     "metadata": {},
     "output_type": "execute_result"
    }
   ],
   "source": [
    "villes.insert(2, 'Saint-Rémy-en-Bouzemont-Saint-Genest-et-Isson')\n",
    "villes"
   ]
  },
  {
   "cell_type": "code",
   "execution_count": 15,
   "id": "5389c15d-bd81-4f43-88f9-3600ffcd0e89",
   "metadata": {},
   "outputs": [
    {
     "data": {
      "text/plain": [
       "['Montpellier',\n",
       " 'Pau',\n",
       " 'Saint-Rémy-en-Bouzemont-Saint-Genest-et-Isson',\n",
       " 'Toulouse',\n",
       " \"L'Haÿ-les-Roses\",\n",
       " 'La Châtre',\n",
       " 'Limoges',\n",
       " 'Mittelbergheim',\n",
       " 'Fontainebleau']"
      ]
     },
     "execution_count": 15,
     "metadata": {},
     "output_type": "execute_result"
    }
   ],
   "source": [
    "villes_a_ajouter = [\"Mittelbergheim\", \"Fontainebleau\"]\n",
    "villes.extend(villes_a_ajouter)\n",
    "villes"
   ]
  },
  {
   "cell_type": "code",
   "execution_count": 16,
   "id": "291db3c3-3b1d-4c20-85c3-8c9262cdd517",
   "metadata": {},
   "outputs": [
    {
     "data": {
      "text/plain": [
       "['Montpellier',\n",
       " 'Saint-Rémy-en-Bouzemont-Saint-Genest-et-Isson',\n",
       " 'Toulouse',\n",
       " \"L'Haÿ-les-Roses\",\n",
       " 'La Châtre',\n",
       " 'Limoges',\n",
       " 'Mittelbergheim',\n",
       " 'Fontainebleau']"
      ]
     },
     "execution_count": 16,
     "metadata": {},
     "output_type": "execute_result"
    }
   ],
   "source": [
    "del villes[1]\n",
    "villes"
   ]
  },
  {
   "cell_type": "code",
   "execution_count": 17,
   "id": "c28d13a1-9aa6-47ea-b68a-5228cb96d705",
   "metadata": {},
   "outputs": [
    {
     "data": {
      "text/plain": [
       "[]"
      ]
     },
     "execution_count": 17,
     "metadata": {},
     "output_type": "execute_result"
    }
   ],
   "source": [
    "# Vider toute la liste\n",
    "villes_a_ajouter.clear()\n",
    "villes_a_ajouter"
   ]
  },
  {
   "cell_type": "code",
   "execution_count": 18,
   "id": "456f6656-5fe8-4258-86d8-be520844807a",
   "metadata": {},
   "outputs": [
    {
     "data": {
      "text/plain": [
       "['Montpellier',\n",
       " 'Saint-Rémy-en-Bouzemont-Saint-Genest-et-Isson',\n",
       " 'Toulouse',\n",
       " \"L'Haÿ-les-Roses\",\n",
       " 'La Châtre',\n",
       " 'Mittelbergheim',\n",
       " 'Fontainebleau']"
      ]
     },
     "execution_count": 18,
     "metadata": {},
     "output_type": "execute_result"
    }
   ],
   "source": [
    "villes.remove('Limoges')\n",
    "villes"
   ]
  },
  {
   "cell_type": "markdown",
   "id": "b8f8017a-c88a-48ef-b06b-e3e120b93698",
   "metadata": {},
   "source": [
    "### Récupération d'exception\n",
    "structure try ... except\n",
    "\n",
    "liste des exceptions natives: https://docs.python.org/3.12/library/exceptions.html"
   ]
  },
  {
   "cell_type": "code",
   "execution_count": 20,
   "id": "327e801f-776c-42ee-bd42-5580454a599c",
   "metadata": {},
   "outputs": [
    {
     "name": "stdout",
     "output_type": "stream",
     "text": [
      "Limoges n'est pas dans la liste\n"
     ]
    }
   ],
   "source": [
    "try:\n",
    "    villes.remove('Limoges')\n",
    "    print(\"Limoges a été supprimé de la liste\")\n",
    "except:\n",
    "    print(\"Limoges n'est pas dans la liste\")"
   ]
  },
  {
   "cell_type": "code",
   "execution_count": 21,
   "id": "6236b217-163e-4eb1-90df-7b96c62e7d6a",
   "metadata": {},
   "outputs": [
    {
     "name": "stdout",
     "output_type": "stream",
     "text": [
      "Limoges n'est pas dans la liste\n",
      "Raison : list.remove(x): x not in list\n"
     ]
    }
   ],
   "source": [
    "try:\n",
    "    villes.remove('Limoges')\n",
    "    print(\"Limoges a été supprimé de la liste\")\n",
    "except ValueError as ex:\n",
    "    print(\"Limoges n'est pas dans la liste\")\n",
    "    print(\"Raison :\", ex)"
   ]
  },
  {
   "cell_type": "markdown",
   "id": "988e9f5f-2f95-4a6b-ab21-f03e8261792f",
   "metadata": {},
   "source": [
    "### Modification avec l'operateur []\n",
    "- 1 index\n",
    "- 1 slice"
   ]
  },
  {
   "cell_type": "code",
   "execution_count": 23,
   "id": "63dc5def-2b8b-46a1-8045-6c14a120e872",
   "metadata": {},
   "outputs": [
    {
     "name": "stdout",
     "output_type": "stream",
     "text": [
      "['Montpellier', 'Saint-Rémy-en-Bouzemont-Saint-Genest-et-Isson', 'Toulouse', \"L'Haÿ-les-Roses\", 'La Châtre', 'Mittelbergheim', 'Fontainebleau']\n",
      "['Montpellier', 'Saint-Rémy-en-Bouzemont-Saint-Genest-et-Isson', 'Montcuq', \"L'Haÿ-les-Roses\", 'La Châtre', 'Mittelbergheim', 'Fontainebleau']\n"
     ]
    }
   ],
   "source": [
    "print(villes)\n",
    "villes[2] = 'Montcuq'\n",
    "print(villes)"
   ]
  },
  {
   "cell_type": "code",
   "execution_count": 24,
   "id": "fc8880d1-f658-4d71-a08a-20dc64b8c04a",
   "metadata": {},
   "outputs": [
    {
     "data": {
      "text/plain": [
       "['Toulouse',\n",
       " 'Pau',\n",
       " 'Montcuq',\n",
       " \"L'Haÿ-les-Roses\",\n",
       " 'La Châtre',\n",
       " 'Mittelbergheim',\n",
       " 'Fontainebleau']"
      ]
     },
     "execution_count": 24,
     "metadata": {},
     "output_type": "execute_result"
    }
   ],
   "source": [
    "# remplacement de 2 villes par 2 autres\n",
    "villes[:2] = ['Toulouse', 'Pau']\n",
    "villes"
   ]
  },
  {
   "cell_type": "code",
   "execution_count": 25,
   "id": "6f1767c1-1b9c-4095-a53e-201f7d30ef71",
   "metadata": {},
   "outputs": [
    {
     "data": {
      "text/plain": [
       "['Toulouse',\n",
       " 'Montpellier',\n",
       " 'Saint-Rémy-en-Bouzemont-Saint-Genest-et-Isson',\n",
       " 'Lyon',\n",
       " \"L'Haÿ-les-Roses\",\n",
       " 'La Châtre',\n",
       " 'Mittelbergheim',\n",
       " 'Fontainebleau']"
      ]
     },
     "execution_count": 25,
     "metadata": {},
     "output_type": "execute_result"
    }
   ],
   "source": [
    "# remplacement de 2 villes par 3 autres\n",
    "villes[1:3] = ['Montpellier', 'Saint-Rémy-en-Bouzemont-Saint-Genest-et-Isson', 'Lyon']\n",
    "villes"
   ]
  },
  {
   "cell_type": "code",
   "execution_count": 26,
   "id": "1301d5e5-e4fa-43b8-90b0-59a49c54564a",
   "metadata": {},
   "outputs": [
    {
     "data": {
      "text/plain": [
       "['Toulouse',\n",
       " 'Montpellier',\n",
       " 'Saint-Rémy-en-Bouzemont-Saint-Genest-et-Isson',\n",
       " 'Lyon',\n",
       " \"L'Haÿ-les-Roses\",\n",
       " 'Lille']"
      ]
     },
     "execution_count": 26,
     "metadata": {},
     "output_type": "execute_result"
    }
   ],
   "source": [
    "# remplacement de 3 villes par 1 autre\n",
    "villes[-3:]=['Lille']\n",
    "villes"
   ]
  },
  {
   "cell_type": "code",
   "execution_count": 27,
   "id": "99f3b28e-1e12-4929-a04e-21caaccc03f7",
   "metadata": {},
   "outputs": [
    {
     "data": {
      "text/plain": [
       "['Toulouse', 'Montpellier', 'Saint-Rémy-en-Bouzemont-Saint-Genest-et-Isson']"
      ]
     },
     "execution_count": 27,
     "metadata": {},
     "output_type": "execute_result"
    }
   ],
   "source": [
    "# suppression avec slice\n",
    "del villes[-3:]\n",
    "villes"
   ]
  },
  {
   "cell_type": "markdown",
   "id": "815dc82f-5b23-4b5d-b6ee-a39863b18450",
   "metadata": {},
   "source": [
    "### Liste hétérogène\n",
    "rare => privilégier les tuples ou dictionnaires"
   ]
  },
  {
   "cell_type": "code",
   "execution_count": 29,
   "id": "0b6ac1c9-6108-4423-a3e1-ab1e9971811a",
   "metadata": {},
   "outputs": [
    {
     "data": {
      "text/plain": [
       "['Montpellier', 34, 12.3, False, None, [1, 2, 3]]"
      ]
     },
     "execution_count": 29,
     "metadata": {},
     "output_type": "execute_result"
    }
   ],
   "source": [
    "valeurs = ['Montpellier', 34, 12.3, False, None, [1,2,3]]\n",
    "valeurs"
   ]
  },
  {
   "cell_type": "markdown",
   "id": "1b929df9-f4c6-4648-a0c6-0b4ed89e6699",
   "metadata": {},
   "source": [
    "## Boucle for\n",
    "On peut parcourir tout objet 'iterable': str, list, tuple, set, dict, numpy.ndarray, ..."
   ]
  },
  {
   "cell_type": "code",
   "execution_count": 31,
   "id": "65fc7061-855c-43bc-b884-80482da390fd",
   "metadata": {},
   "outputs": [
    {
     "name": "stdout",
     "output_type": "stream",
     "text": [
      "Toulouse\n",
      "Montpellier\n",
      "Saint-Rémy-en-Bouzemont-Saint-Genest-et-Isson\n"
     ]
    }
   ],
   "source": [
    "# type list: itération sur les éléments de la liste\n",
    "for ville in villes:\n",
    "    print(ville)"
   ]
  },
  {
   "cell_type": "code",
   "execution_count": 32,
   "id": "1ccb2a8d-e854-4157-9fb7-fb3cd8e29f37",
   "metadata": {},
   "outputs": [],
   "source": [
    "# # TypeError: 'int' object is not iterable\n",
    "# for x in 123456:\n",
    "#     print(x)"
   ]
  },
  {
   "cell_type": "code",
   "execution_count": 33,
   "id": "f981c224-681c-4250-91e2-348e9d2fcc79",
   "metadata": {},
   "outputs": [
    {
     "name": "stdout",
     "output_type": "stream",
     "text": [
      "S | a | i | n | t | - | R | é | m | y | - | e | n | - | B | o | u | z | e | m | o | n | t | - | S | a | i | n | t | - | G | e | n | e | s | t | - | e | t | - | I | s | s | o | n | "
     ]
    }
   ],
   "source": [
    "# type str: itération sur les caractères de la chaîne\n",
    "nom_ville = villes[-1]\n",
    "for lettre in nom_ville:\n",
    "    print(lettre, end=' | ')"
   ]
  },
  {
   "cell_type": "code",
   "execution_count": 34,
   "id": "3de26733-35c1-49b5-b2eb-2d5c3e76c745",
   "metadata": {},
   "outputs": [
    {
     "name": "stdout",
     "output_type": "stream",
     "text": [
      "0\n",
      "1\n",
      "2\n",
      "3\n",
      "4\n"
     ]
    }
   ],
   "source": [
    "for i in range(5): # de 0 (inclus) à 5 (exclus)\n",
    "    print(i)"
   ]
  },
  {
   "cell_type": "code",
   "execution_count": 35,
   "id": "53db1d7d-7c59-40fb-9fdf-950dc27adecc",
   "metadata": {},
   "outputs": [
    {
     "name": "stdout",
     "output_type": "stream",
     "text": [
      "1\n",
      "2\n",
      "3\n",
      "4\n",
      "5\n"
     ]
    }
   ],
   "source": [
    "for i in range(1, 6): # de 1 (inclus) à 6 (exclus)\n",
    "    print(i)"
   ]
  },
  {
   "cell_type": "code",
   "execution_count": 36,
   "id": "dac3a909-0097-46b8-b0de-5a5a4774c9af",
   "metadata": {},
   "outputs": [
    {
     "name": "stdout",
     "output_type": "stream",
     "text": [
      "0\n",
      "10\n",
      "20\n",
      "30\n",
      "40\n"
     ]
    }
   ],
   "source": [
    "for i in range(0, 50, 10): # de 0 (inclus) à 50 (exclus) par pas de 10\n",
    "    print(i)"
   ]
  },
  {
   "cell_type": "code",
   "execution_count": 37,
   "id": "6e76a289-89b7-4719-a189-7cf755da2e2b",
   "metadata": {},
   "outputs": [
    {
     "data": {
      "text/plain": [
       "range(0, 50, 10)"
      ]
     },
     "execution_count": 37,
     "metadata": {},
     "output_type": "execute_result"
    }
   ],
   "source": [
    "# Python 3: la fonction range renvoie un petit objet décrivant l'intervalle\n",
    "# Python 2.7 => liste [0,10,20,30,40]\n",
    "r = range(0,50,10)\n",
    "r"
   ]
  },
  {
   "cell_type": "code",
   "execution_count": 38,
   "id": "e089a3d4-855d-43e5-a889-7032ccd9f76e",
   "metadata": {},
   "outputs": [
    {
     "data": {
      "text/plain": [
       "[0, 10, 20, 30, 40]"
      ]
     },
     "execution_count": 38,
     "metadata": {},
     "output_type": "execute_result"
    }
   ],
   "source": [
    "# la fonction list convertit 1 objet iterable en liste\n",
    "list(range(0,50,10))"
   ]
  },
  {
   "cell_type": "code",
   "execution_count": 39,
   "id": "de6cc8e9-f0d3-461a-bfc5-6efeb6d43c1f",
   "metadata": {
    "scrolled": true
   },
   "outputs": [
    {
     "data": {
      "text/plain": [
       "['S',\n",
       " 'a',\n",
       " 'i',\n",
       " 'n',\n",
       " 't',\n",
       " '-',\n",
       " 'R',\n",
       " 'é',\n",
       " 'm',\n",
       " 'y',\n",
       " '-',\n",
       " 'e',\n",
       " 'n',\n",
       " '-',\n",
       " 'B',\n",
       " 'o',\n",
       " 'u',\n",
       " 'z',\n",
       " 'e',\n",
       " 'm',\n",
       " 'o',\n",
       " 'n',\n",
       " 't',\n",
       " '-',\n",
       " 'S',\n",
       " 'a',\n",
       " 'i',\n",
       " 'n',\n",
       " 't',\n",
       " '-',\n",
       " 'G',\n",
       " 'e',\n",
       " 'n',\n",
       " 'e',\n",
       " 's',\n",
       " 't',\n",
       " '-',\n",
       " 'e',\n",
       " 't',\n",
       " '-',\n",
       " 'I',\n",
       " 's',\n",
       " 's',\n",
       " 'o',\n",
       " 'n']"
      ]
     },
     "execution_count": 39,
     "metadata": {},
     "output_type": "execute_result"
    }
   ],
   "source": [
    "list(nom_ville)"
   ]
  },
  {
   "cell_type": "markdown",
   "id": "d4707990-4bf7-4e01-b608-0acb2c0cfba8",
   "metadata": {},
   "source": [
    "### Exercice 1\n",
    "Afficher chaque ville en majuscule et entre parenthèse son nombre de lettre"
   ]
  },
  {
   "cell_type": "code",
   "execution_count": 41,
   "id": "bcaed43d-702b-4107-ba35-70f4c0b0bdb1",
   "metadata": {},
   "outputs": [],
   "source": [
    "villes = [\n",
    "    'Toulouse',\n",
    "     'Montpellier',\n",
    "     'Saint-Rémy-en-Bouzemont-Saint-Genest-et-Isson',\n",
    "     'Lyon',\n",
    "     \"L'Haÿ-les-Roses\",\n",
    "     'La Châtre',\n",
    "     'Mittelbergheim',\n",
    "     'Fontainebleau'\n",
    "]"
   ]
  },
  {
   "cell_type": "code",
   "execution_count": 42,
   "id": "ae633a6f-cca8-4a50-8b63-dffbe82ad841",
   "metadata": {},
   "outputs": [
    {
     "name": "stdout",
     "output_type": "stream",
     "text": [
      "TOULOUSE (8)\n",
      "MONTPELLIER (11)\n",
      "SAINT-RÉMY-EN-BOUZEMONT-SAINT-GENEST-ET-ISSON (45)\n",
      "LYON (4)\n",
      "L'HAŸ-LES-ROSES (15)\n",
      "LA CHÂTRE (9)\n",
      "MITTELBERGHEIM (14)\n",
      "FONTAINEBLEAU (13)\n"
     ]
    }
   ],
   "source": [
    "for ville in villes:\n",
    "    print(f\"{ville.upper()} ({len(ville)})\")"
   ]
  },
  {
   "cell_type": "markdown",
   "id": "c6b98bc3-038d-4c21-8334-7ee84085df0e",
   "metadata": {},
   "source": [
    "### Exercice 2\n",
    "Récupérer dans une liste les villes de moins de 10 lettres"
   ]
  },
  {
   "cell_type": "code",
   "execution_count": 44,
   "id": "12489fd2-0c96-4929-9235-d8414c6be597",
   "metadata": {},
   "outputs": [
    {
     "data": {
      "text/plain": [
       "['Toulouse', 'Lyon', 'La Châtre']"
      ]
     },
     "execution_count": 44,
     "metadata": {},
     "output_type": "execute_result"
    }
   ],
   "source": [
    "# initialise une liste vide\n",
    "villes_moins_10_carac = []\n",
    "# boucle qui ajoute les éléments trouvés\n",
    "for ville in villes:\n",
    "    if len(ville) < 10:\n",
    "        # print(ville,(len(ville)))\n",
    "        villes_moins_10_carac.append(ville)\n",
    "villes_moins_10_carac"
   ]
  },
  {
   "cell_type": "markdown",
   "id": "2e9750fb-0c60-4b61-8773-5142dc5c9d2d",
   "metadata": {},
   "source": [
    "### Exercice 3\n",
    "Le nombre total de lettres de la liste de villes"
   ]
  },
  {
   "cell_type": "code",
   "execution_count": 46,
   "id": "b6cf4e5d-86eb-4bd6-b1eb-6be30c39e779",
   "metadata": {},
   "outputs": [
    {
     "data": {
      "text/plain": [
       "119"
      ]
     },
     "execution_count": 46,
     "metadata": {},
     "output_type": "execute_result"
    }
   ],
   "source": [
    "# operateur 'in place': +=, -=, *=, /=, //=, %=, **=\n",
    "\n",
    "# initialise un compteur\n",
    "nb_char = 0\n",
    "# boucle ajoutant le nombre de lettre pour chacune des villes\n",
    "for ville in villes:\n",
    "    # nb_char = nb_char + len(ville)\n",
    "    nb_char += len(ville)\n",
    "nb_char"
   ]
  },
  {
   "cell_type": "markdown",
   "id": "4ce24e2f-d609-4bd1-86e1-a87c5ecb9d02",
   "metadata": {},
   "source": [
    "## Fonctions natives sur les iterables"
   ]
  },
  {
   "cell_type": "markdown",
   "id": "72f4714a-18b5-4eed-8a83-d6d24c5176ea",
   "metadata": {},
   "source": [
    "### fonction sum\n",
    "Signature: sum(iterable, /, start=0)"
   ]
  },
  {
   "cell_type": "code",
   "execution_count": 49,
   "id": "422b41fd-7890-454e-a736-34eda5ea3378",
   "metadata": {},
   "outputs": [
    {
     "data": {
      "text/plain": [
       "82"
      ]
     },
     "execution_count": 49,
     "metadata": {},
     "output_type": "execute_result"
    }
   ],
   "source": [
    "nombres = [1, 10, 23, 41, 12, -5, 0]\n",
    "s = sum(nombres)\n",
    "s"
   ]
  },
  {
   "cell_type": "code",
   "execution_count": 50,
   "id": "6d2eabb5-c4e1-4acc-95c1-299ab8202ec5",
   "metadata": {},
   "outputs": [
    {
     "data": {
      "text/plain": [
       "182"
      ]
     },
     "execution_count": 50,
     "metadata": {},
     "output_type": "execute_result"
    }
   ],
   "source": [
    "# appel 1er paramètre par position, 2e par keyword (privilégié pour les optionnels)\n",
    "sum(nombres, start=100)"
   ]
  },
  {
   "cell_type": "code",
   "execution_count": 51,
   "id": "b9941dbe-00c6-4845-bac9-145079466c7a",
   "metadata": {},
   "outputs": [
    {
     "data": {
      "text/plain": [
       "182"
      ]
     },
     "execution_count": 51,
     "metadata": {},
     "output_type": "execute_result"
    }
   ],
   "source": [
    "# appel avec tous les paramètres par position\n",
    "sum(nombres, 100)"
   ]
  },
  {
   "cell_type": "markdown",
   "id": "903741f9-44d7-4567-b7e8-13bd27b046ef",
   "metadata": {},
   "source": [
    "### fonction enumerate\n",
    "Signature: enumerate(iterable, start=0)"
   ]
  },
  {
   "cell_type": "code",
   "execution_count": 53,
   "id": "af9f7da1-518e-47d4-b0ac-e85a5bc57b9d",
   "metadata": {},
   "outputs": [
    {
     "data": {
      "text/plain": [
       "<enumerate at 0x2523eb3e070>"
      ]
     },
     "execution_count": 53,
     "metadata": {},
     "output_type": "execute_result"
    }
   ],
   "source": [
    "enumerate(villes, 1)"
   ]
  },
  {
   "cell_type": "code",
   "execution_count": 54,
   "id": "e86994e1-8b5e-41c5-8ef5-16277fa97432",
   "metadata": {},
   "outputs": [
    {
     "data": {
      "text/plain": [
       "<enumerate at 0x2523eb3e980>"
      ]
     },
     "execution_count": 54,
     "metadata": {},
     "output_type": "execute_result"
    }
   ],
   "source": [
    "enumerate(villes, start=1)"
   ]
  },
  {
   "cell_type": "code",
   "execution_count": 55,
   "id": "0539f77b-cf23-47a0-b87b-22cd2161d89b",
   "metadata": {},
   "outputs": [
    {
     "data": {
      "text/plain": [
       "<enumerate at 0x2523eb3f010>"
      ]
     },
     "execution_count": 55,
     "metadata": {},
     "output_type": "execute_result"
    }
   ],
   "source": [
    "enumerate(iterable=villes)"
   ]
  },
  {
   "cell_type": "code",
   "execution_count": 56,
   "id": "8bbc3aa5-7158-4096-bd82-0652a2e2da78",
   "metadata": {},
   "outputs": [
    {
     "data": {
      "text/plain": [
       "<enumerate at 0x2523eb3f600>"
      ]
     },
     "execution_count": 56,
     "metadata": {},
     "output_type": "execute_result"
    }
   ],
   "source": [
    "enumerate(iterable=villes, start=1)"
   ]
  },
  {
   "cell_type": "code",
   "execution_count": 57,
   "id": "ddabe568-df6c-4be1-8b7c-02c471b0e880",
   "metadata": {},
   "outputs": [
    {
     "name": "stdout",
     "output_type": "stream",
     "text": [
      "- 01 - Toulouse\n",
      "- 02 - Montpellier\n",
      "- 03 - Saint-Rémy-en-Bouzemont-Saint-Genest-et-Isson\n",
      "- 04 - Lyon\n",
      "- 05 - L'Haÿ-les-Roses\n",
      "- 06 - La Châtre\n",
      "- 07 - Mittelbergheim\n",
      "- 08 - Fontainebleau\n"
     ]
    }
   ],
   "source": [
    "for i, ville in enumerate(villes, start=1):\n",
    "    print(f\"- {i:02d} - {ville}\")"
   ]
  },
  {
   "cell_type": "code",
   "execution_count": 58,
   "id": "cfc619ae-75f5-4c8d-bea7-e7eb387797ab",
   "metadata": {},
   "outputs": [
    {
     "data": {
      "text/plain": [
       "[(1, 'Toulouse'),\n",
       " (2, 'Montpellier'),\n",
       " (3, 'Saint-Rémy-en-Bouzemont-Saint-Genest-et-Isson'),\n",
       " (4, 'Lyon'),\n",
       " (5, \"L'Haÿ-les-Roses\"),\n",
       " (6, 'La Châtre'),\n",
       " (7, 'Mittelbergheim'),\n",
       " (8, 'Fontainebleau')]"
      ]
     },
     "execution_count": 58,
     "metadata": {},
     "output_type": "execute_result"
    }
   ],
   "source": [
    "list(enumerate(villes, start=1)) # liste de tuples (int, str)"
   ]
  },
  {
   "cell_type": "markdown",
   "id": "85588192-3234-4213-a996-e69453d4dbe5",
   "metadata": {},
   "source": [
    "### Exercice fonctions natives\n",
    "Appeler les fonctions: min, max, sorted, reversed"
   ]
  },
  {
   "cell_type": "code",
   "execution_count": 60,
   "id": "ee20e796-1f04-4c1c-99e7-32d6c6d3660f",
   "metadata": {},
   "outputs": [
    {
     "name": "stdout",
     "output_type": "stream",
     "text": [
      "[1, 10, 23, 41, 12, -5, 0]\n"
     ]
    },
    {
     "data": {
      "text/plain": [
       "-5"
      ]
     },
     "execution_count": 60,
     "metadata": {},
     "output_type": "execute_result"
    }
   ],
   "source": [
    "print(nombres)\n",
    "min(nombres)"
   ]
  },
  {
   "cell_type": "code",
   "execution_count": 61,
   "id": "4eed621d-95e0-4dec-a1ca-0bb33ce51111",
   "metadata": {},
   "outputs": [
    {
     "name": "stdout",
     "output_type": "stream",
     "text": [
      "[1, 10, 23, 41, 12, -5, 0]\n"
     ]
    },
    {
     "data": {
      "text/plain": [
       "41"
      ]
     },
     "execution_count": 61,
     "metadata": {},
     "output_type": "execute_result"
    }
   ],
   "source": [
    "print(nombres)\n",
    "max(nombres)"
   ]
  },
  {
   "cell_type": "code",
   "execution_count": 62,
   "id": "259aeb18-9646-43be-947a-e9721fb5bef3",
   "metadata": {},
   "outputs": [
    {
     "name": "stdout",
     "output_type": "stream",
     "text": [
      "[1, 10, 23, 41, 12, -5, 0]\n"
     ]
    },
    {
     "data": {
      "text/plain": [
       "[-5, 0, 1, 10, 12, 23, 41]"
      ]
     },
     "execution_count": 62,
     "metadata": {},
     "output_type": "execute_result"
    }
   ],
   "source": [
    "print(nombres)\n",
    "sorted(nombres) # => 1 nouvelle liste"
   ]
  },
  {
   "cell_type": "code",
   "execution_count": 63,
   "id": "93178fe0-74b8-45a3-aa08-f06c532fb773",
   "metadata": {},
   "outputs": [
    {
     "name": "stdout",
     "output_type": "stream",
     "text": [
      "Fontainebleau\n"
     ]
    },
    {
     "data": {
      "text/plain": [
       "['F', 'a', 'a', 'b', 'e', 'e', 'i', 'l', 'n', 'n', 'o', 't', 'u']"
      ]
     },
     "execution_count": 63,
     "metadata": {},
     "output_type": "execute_result"
    }
   ],
   "source": [
    "print(ville)\n",
    "sorted(ville)"
   ]
  },
  {
   "cell_type": "code",
   "execution_count": 64,
   "id": "9171bb5e-f192-41f3-8894-0c8509a94265",
   "metadata": {},
   "outputs": [
    {
     "name": "stdout",
     "output_type": "stream",
     "text": [
      "['Toulouse', 'Montpellier', 'Saint-Rémy-en-Bouzemont-Saint-Genest-et-Isson', 'Lyon', \"L'Haÿ-les-Roses\", 'La Châtre', 'Mittelbergheim', 'Fontainebleau']\n"
     ]
    },
    {
     "data": {
      "text/plain": [
       "['Fontainebleau',\n",
       " \"L'Haÿ-les-Roses\",\n",
       " 'La Châtre',\n",
       " 'Lyon',\n",
       " 'Mittelbergheim',\n",
       " 'Montpellier',\n",
       " 'Saint-Rémy-en-Bouzemont-Saint-Genest-et-Isson',\n",
       " 'Toulouse']"
      ]
     },
     "execution_count": 64,
     "metadata": {},
     "output_type": "execute_result"
    }
   ],
   "source": [
    "print(villes)\n",
    "sorted(villes)"
   ]
  },
  {
   "cell_type": "code",
   "execution_count": 65,
   "id": "97c73543-ddad-4a2b-b510-83ddf961c162",
   "metadata": {},
   "outputs": [
    {
     "data": {
      "text/plain": [
       "['Fontainebleau',\n",
       " 'Mittelbergheim',\n",
       " 'La Châtre',\n",
       " \"L'Haÿ-les-Roses\",\n",
       " 'Lyon',\n",
       " 'Saint-Rémy-en-Bouzemont-Saint-Genest-et-Isson',\n",
       " 'Montpellier',\n",
       " 'Toulouse']"
      ]
     },
     "execution_count": 65,
     "metadata": {},
     "output_type": "execute_result"
    }
   ],
   "source": [
    "list(reversed(villes))"
   ]
  },
  {
   "cell_type": "code",
   "execution_count": 66,
   "id": "f5b344db-a2c0-4cd5-9cad-654834449341",
   "metadata": {},
   "outputs": [
    {
     "name": "stdout",
     "output_type": "stream",
     "text": [
      "Fontainebleau\n",
      "Mittelbergheim\n",
      "La Châtre\n",
      "L'Haÿ-les-Roses\n",
      "Lyon\n",
      "Saint-Rémy-en-Bouzemont-Saint-Genest-et-Isson\n",
      "Montpellier\n",
      "Toulouse\n"
     ]
    }
   ],
   "source": [
    "for ville in reversed(villes):\n",
    "    print(ville)"
   ]
  },
  {
   "cell_type": "code",
   "execution_count": 67,
   "id": "730f8557-68b3-4378-80a2-3a43daea485d",
   "metadata": {},
   "outputs": [
    {
     "name": "stdout",
     "output_type": "stream",
     "text": [
      "- 01 - Fontainebleau\n",
      "- 02 - Mittelbergheim\n",
      "- 03 - La Châtre\n",
      "- 04 - L'Haÿ-les-Roses\n",
      "- 05 - Lyon\n",
      "- 06 - Saint-Rémy-en-Bouzemont-Saint-Genest-et-Isson\n",
      "- 07 - Montpellier\n",
      "- 08 - Toulouse\n"
     ]
    }
   ],
   "source": [
    "for i, ville in zip(range(1, len(villes) + 1), reversed(villes)):\n",
    "    print(f\"- {i:02d} - {ville}\")"
   ]
  },
  {
   "cell_type": "code",
   "execution_count": 68,
   "id": "94fa9976-4eff-4f8a-8a18-6c2d596b1465",
   "metadata": {},
   "outputs": [
    {
     "data": {
      "text/plain": [
       "[1, 2, 3, 4, 5, 6, 7, 8]"
      ]
     },
     "execution_count": 68,
     "metadata": {},
     "output_type": "execute_result"
    }
   ],
   "source": [
    "# detail range:\n",
    "list(range(1, len(villes) + 1))"
   ]
  },
  {
   "cell_type": "code",
   "execution_count": 69,
   "id": "e8cb0128-b21d-4345-9593-eb2a6608a5ae",
   "metadata": {},
   "outputs": [
    {
     "data": {
      "text/plain": [
       "[(1, 'Fontainebleau'),\n",
       " (2, 'Mittelbergheim'),\n",
       " (3, 'La Châtre'),\n",
       " (4, \"L'Haÿ-les-Roses\"),\n",
       " (5, 'Lyon'),\n",
       " (6, 'Saint-Rémy-en-Bouzemont-Saint-Genest-et-Isson'),\n",
       " (7, 'Montpellier'),\n",
       " (8, 'Toulouse')]"
      ]
     },
     "execution_count": 69,
     "metadata": {},
     "output_type": "execute_result"
    }
   ],
   "source": [
    "list(zip(range(1, len(villes) + 1), reversed(villes)))"
   ]
  },
  {
   "cell_type": "code",
   "execution_count": 70,
   "id": "2ca88ccd-2c1e-4ad2-b44e-57ba5b7d2928",
   "metadata": {},
   "outputs": [
    {
     "data": {
      "text/plain": [
       "['Toulouse',\n",
       " 'Montpellier',\n",
       " 'Saint-Rémy-en-Bouzemont-Saint-Genest-et-Isson',\n",
       " 'Lyon',\n",
       " \"L'Haÿ-les-Roses\",\n",
       " 'La Châtre',\n",
       " 'Mittelbergheim',\n",
       " 'Fontainebleau']"
      ]
     },
     "execution_count": 70,
     "metadata": {},
     "output_type": "execute_result"
    }
   ],
   "source": [
    "villes"
   ]
  },
  {
   "cell_type": "code",
   "execution_count": 71,
   "id": "a2a10883-62d0-4213-9d79-92fe47467b6c",
   "metadata": {},
   "outputs": [
    {
     "data": {
      "text/plain": [
       "['Fontainebleau',\n",
       " 'Mittelbergheim',\n",
       " 'La Châtre',\n",
       " \"L'Haÿ-les-Roses\",\n",
       " 'Lyon',\n",
       " 'Saint-Rémy-en-Bouzemont-Saint-Genest-et-Isson',\n",
       " 'Montpellier',\n",
       " 'Toulouse']"
      ]
     },
     "execution_count": 71,
     "metadata": {},
     "output_type": "execute_result"
    }
   ],
   "source": [
    "list(reversed(villes))"
   ]
  },
  {
   "cell_type": "code",
   "execution_count": 72,
   "id": "f871f991-982f-4062-a065-3691c5a7980b",
   "metadata": {},
   "outputs": [
    {
     "name": "stdout",
     "output_type": "stream",
     "text": [
      "0 1 a Toulouse\n",
      "1 10 b Montpellier\n",
      "2 23 c Saint-Rémy-en-Bouzemont-Saint-Genest-et-Isson\n",
      "3 41 d Lyon\n",
      "4 12 e L'Haÿ-les-Roses\n",
      "5 -5 f La Châtre\n",
      "6 0 g Mittelbergheim\n"
     ]
    }
   ],
   "source": [
    "# le parcours s'arrête par rapport à la plus petite des sources\n",
    "for ville, i, n, lettre in zip(villes, range(100), nombres, 'abcdefghilklmnopqrstuvwxyz'):\n",
    "    print(i, n, lettre, ville)"
   ]
  },
  {
   "cell_type": "code",
   "execution_count": 75,
   "id": "51294820-fd09-43c1-a25b-3e764219dc05",
   "metadata": {},
   "outputs": [],
   "source": [
    "# Le module itertools offre de nombreuses autres itérations\n",
    "from itertools import zip_longest"
   ]
  },
  {
   "cell_type": "code",
   "execution_count": 77,
   "id": "8fb7a848-22ba-4dd0-b87c-4762c3514b9e",
   "metadata": {},
   "outputs": [
    {
     "name": "stdout",
     "output_type": "stream",
     "text": [
      "0 1 a Toulouse\n",
      "1 10 b Montpellier\n",
      "2 23 c Saint-Rémy-en-Bouzemont-Saint-Genest-et-Isson\n",
      "3 41 d Lyon\n",
      "4 12 e L'Haÿ-les-Roses\n",
      "5 -5 f La Châtre\n",
      "6 0 g Mittelbergheim\n",
      "7 None h Fontainebleau\n",
      "8 None i None\n",
      "9 None l None\n",
      "10 None k None\n",
      "11 None l None\n",
      "12 None m None\n",
      "13 None n None\n",
      "14 None o None\n",
      "15 None p None\n",
      "16 None q None\n",
      "17 None r None\n",
      "18 None s None\n",
      "19 None t None\n",
      "20 None u None\n",
      "21 None v None\n",
      "22 None w None\n",
      "23 None x None\n",
      "24 None y None\n",
      "25 None z None\n",
      "26 None None None\n",
      "27 None None None\n"
     ]
    }
   ],
   "source": [
    "for ville, i, n, lettre in zip_longest(villes, range(28), nombres, 'abcdefghilklmnopqrstuvwxyz'):\n",
    "    print(i, n, lettre, ville)"
   ]
  },
  {
   "cell_type": "markdown",
   "id": "f2f5217e-8794-4fcf-a9e8-9049557193d4",
   "metadata": {},
   "source": [
    "## Tuples\n",
    "Caractéristiques: non modifiable, peut-être hétérogène"
   ]
  },
  {
   "cell_type": "code",
   "execution_count": 82,
   "id": "e415ea8b-8af3-46be-81ee-4a2304ee24ca",
   "metadata": {},
   "outputs": [
    {
     "data": {
      "text/plain": [
       "('Montpellier', 34, 307101)"
      ]
     },
     "execution_count": 82,
     "metadata": {},
     "output_type": "execute_result"
    }
   ],
   "source": [
    "ville_t = 'Montpellier', 34, 307_101\n",
    "ville_t"
   ]
  },
  {
   "cell_type": "code",
   "execution_count": 84,
   "id": "ce4a3dea-e922-4ea6-bed9-b87b32371dfe",
   "metadata": {},
   "outputs": [
    {
     "data": {
      "text/plain": [
       "('Toulouse', 31, 511684)"
      ]
     },
     "execution_count": 84,
     "metadata": {},
     "output_type": "execute_result"
    }
   ],
   "source": [
    "ville_t2 = ('Toulouse', 31, 511_684)\n",
    "ville_t2"
   ]
  },
  {
   "cell_type": "code",
   "execution_count": 88,
   "id": "83cf6a9a-dd1a-4f24-a3d3-5a1f7a646a81",
   "metadata": {},
   "outputs": [
    {
     "name": "stdout",
     "output_type": "stream",
     "text": [
      "Montpellier\n",
      "307101\n",
      "307101\n",
      "('Montpellier', 34)\n"
     ]
    }
   ],
   "source": [
    "print(ville_t[0])\n",
    "print(ville_t[2])\n",
    "print(ville_t[-1])\n",
    "print(ville_t[:2])"
   ]
  },
  {
   "cell_type": "code",
   "execution_count": 92,
   "id": "db3e6661-4dde-4758-8beb-9e3aa2d6655c",
   "metadata": {},
   "outputs": [],
   "source": [
    "# ville_t[0] = 'Pau'\n",
    "# TypeError: 'tuple' object does not support item assignment"
   ]
  },
  {
   "cell_type": "code",
   "execution_count": 96,
   "id": "a32fe545-57a4-44b3-b6a8-8612797efa2a",
   "metadata": {},
   "outputs": [
    {
     "data": {
      "text/plain": [
       "(12, 34)"
      ]
     },
     "execution_count": 96,
     "metadata": {},
     "output_type": "execute_result"
    }
   ],
   "source": [
    "# coordonnées en 2D\n",
    "coords = (12, 34)\n",
    "coords"
   ]
  },
  {
   "cell_type": "code",
   "execution_count": 98,
   "id": "d04ca165-b360-4e25-bd2b-55273d565591",
   "metadata": {},
   "outputs": [
    {
     "data": {
      "text/plain": [
       "2"
      ]
     },
     "execution_count": 98,
     "metadata": {},
     "output_type": "execute_result"
    }
   ],
   "source": [
    "len(coords)"
   ]
  },
  {
   "cell_type": "code",
   "execution_count": 102,
   "id": "980df2bf-0e62-457d-9d50-9a75cc979893",
   "metadata": {},
   "outputs": [
    {
     "name": "stdout",
     "output_type": "stream",
     "text": [
      "Montpellier\n",
      "34\n",
      "307101\n"
     ]
    }
   ],
   "source": [
    "# le tuple est iterable\n",
    "for info in ville_t:\n",
    "    print(info)"
   ]
  },
  {
   "cell_type": "code",
   "execution_count": 110,
   "id": "83c82079-31cb-4b48-8f38-e437c5811a16",
   "metadata": {},
   "outputs": [
    {
     "name": "stdout",
     "output_type": "stream",
     "text": [
      "('Montpellier', 34, 307101)\n",
      "Montpellier\n",
      "34\n",
      "307101\n"
     ]
    }
   ],
   "source": [
    "# Déballer un tuple en autant de variables que d'éléments (unpack)\n",
    "nom, departement, population = ville_t\n",
    "print(ville_t)\n",
    "print(nom)\n",
    "print(departement)\n",
    "print(population)"
   ]
  },
  {
   "cell_type": "code",
   "execution_count": 114,
   "id": "fa335d0b-a5dc-4a3f-bbb9-adb2e587aa4b",
   "metadata": {},
   "outputs": [],
   "source": [
    "# 'Unpacks' erronés:\n",
    "\n",
    "# Pas assez de valeurs !\n",
    "# nom, departement, population, x = ville_t\n",
    "# ValueError: not enough values to unpack (expected 4, got 3)\n",
    "\n",
    "# Trop de valeurs !\n",
    "# nom, departement = ville_t\n",
    "# ValueError: too many values to unpack (expected 2)"
   ]
  },
  {
   "cell_type": "code",
   "execution_count": 120,
   "id": "d114ae4f-f899-42d6-bd66-6e6358f3f700",
   "metadata": {},
   "outputs": [
    {
     "name": "stdout",
     "output_type": "stream",
     "text": [
      "tuple : ('Montpellier', 34, 307101)\n",
      "nom : Montpellier\n",
      "département: 34\n"
     ]
    }
   ],
   "source": [
    "# Unpack avec des jokers\n",
    "nom, departement, _ = ville_t\n",
    "print('tuple :', ville_t)\n",
    "print('nom :', nom)\n",
    "print('département:', departement)"
   ]
  },
  {
   "cell_type": "code",
   "execution_count": 118,
   "id": "92713df4-e9df-4026-ab2e-aea70df7c48b",
   "metadata": {},
   "outputs": [
    {
     "name": "stdout",
     "output_type": "stream",
     "text": [
      "Echo\n",
      "Echo\n",
      "Echo\n",
      "Echo\n",
      "Echo\n"
     ]
    }
   ],
   "source": [
    "for _ in range(5):\n",
    "    print(\"Echo\")"
   ]
  },
  {
   "cell_type": "code",
   "execution_count": 122,
   "id": "d7d35ba4-ff48-4875-a055-4f44df397bcf",
   "metadata": {},
   "outputs": [
    {
     "name": "stdout",
     "output_type": "stream",
     "text": [
      "12 56\n"
     ]
    }
   ],
   "source": [
    "x, _, z, _, _ = (12, 34, 56, 'red', 12.5)\n",
    "print(x, z)"
   ]
  },
  {
   "cell_type": "code",
   "execution_count": 132,
   "id": "800dd6d5-0753-45ac-b462-d3d7a37828c3",
   "metadata": {},
   "outputs": [],
   "source": [
    "#type: list[tuple[str, int, int]]\n",
    "liste_tuples_villes = [\n",
    "    ('Montpellier', 34, 307_101),\n",
    "    ('Toulouse', 31, 511_684),\n",
    "    ('Pau', 64, 77_000),\n",
    "    ('Mittelbergheim', 67, 640),\n",
    "]"
   ]
  },
  {
   "cell_type": "code",
   "execution_count": 134,
   "id": "3d76a807-8819-43f1-b234-41f4b2c2b1c5",
   "metadata": {},
   "outputs": [
    {
     "data": {
      "text/plain": [
       "list"
      ]
     },
     "execution_count": 134,
     "metadata": {},
     "output_type": "execute_result"
    }
   ],
   "source": [
    "type(liste_tuples_villes)"
   ]
  },
  {
   "cell_type": "code",
   "execution_count": 138,
   "id": "4cb6bf66-514d-42d7-8ebd-67f88ea9b971",
   "metadata": {},
   "outputs": [
    {
     "data": {
      "text/plain": [
       "'Montpellier'"
      ]
     },
     "execution_count": 138,
     "metadata": {},
     "output_type": "execute_result"
    }
   ],
   "source": [
    "# nom de la 1ère ville\n",
    "liste_tuples_villes[0][0]"
   ]
  },
  {
   "cell_type": "code",
   "execution_count": 146,
   "id": "b7955508-e7fa-459e-8f11-50ed7d763e19",
   "metadata": {},
   "outputs": [
    {
     "name": "stdout",
     "output_type": "stream",
     "text": [
      "Montpellier 34 307101\n",
      "Toulouse 31 511684\n",
      "Pau 64 77000\n",
      "Mittelbergheim 67 640\n"
     ]
    }
   ],
   "source": [
    "# parcourir les villes et afficher les 3 informations: nom, département et population\n",
    "\n",
    "# version 1: code peu lisible\n",
    "for ville_t in liste_tuples_villes:\n",
    "    print(ville_t[0], ville_t[1], ville_t[2])"
   ]
  },
  {
   "cell_type": "code",
   "execution_count": 156,
   "id": "03e37a22-7fb0-4567-9a80-7196b53cdaa7",
   "metadata": {},
   "outputs": [
    {
     "name": "stdout",
     "output_type": "stream",
     "text": [
      "ville: Montpellier, département: 34, population: 307101\n",
      "ville: Toulouse, département: 31, population: 511684\n",
      "ville: Pau, département: 64, population: 77000\n",
      "ville: Mittelbergheim, département: 67, population: 640\n"
     ]
    }
   ],
   "source": [
    "# version 2 avec unpack => + lisible\n",
    "for nom, departement, population in liste_tuples_villes:\n",
    "    print(f\"ville: {nom}, département: {departement}, population: {population}\")"
   ]
  },
  {
   "cell_type": "code",
   "execution_count": 167,
   "id": "3ff60926-cde2-4866-8bba-72668eaf1fa8",
   "metadata": {},
   "outputs": [
    {
     "name": "stdout",
     "output_type": "stream",
     "text": [
      "12 23 34\n",
      "red\n"
     ]
    }
   ],
   "source": [
    "# unpack à plusieurs niveaux\n",
    "(x, y, z), color = ((12, 23, 34), 'red')\n",
    "print(x, y, z)\n",
    "print(color)"
   ]
  },
  {
   "cell_type": "code",
   "execution_count": 177,
   "id": "0d64b5ca-b20d-447e-ab09-ece8beb96507",
   "metadata": {},
   "outputs": [
    {
     "data": {
      "text/plain": [
       "[64, 67]"
      ]
     },
     "execution_count": 177,
     "metadata": {},
     "output_type": "execute_result"
    }
   ],
   "source": [
    "# liste des départements >= 50 dans la liste des villes\n",
    "numero_dept_min = 50\n",
    "liste_departements = []\n",
    "for _, departement, _ in liste_tuples_villes:\n",
    "    if departement >= numero_dept_min:\n",
    "        # print(departement)\n",
    "        liste_departements.append(departement)\n",
    "liste_departements"
   ]
  },
  {
   "cell_type": "code",
   "execution_count": 179,
   "id": "93ada099-a9e9-4ead-81db-80b2e7f0c17e",
   "metadata": {},
   "outputs": [
    {
     "data": {
      "text/plain": [
       "2"
      ]
     },
     "execution_count": 179,
     "metadata": {},
     "output_type": "execute_result"
    }
   ],
   "source": [
    "len(liste_departements)"
   ]
  },
  {
   "cell_type": "code",
   "execution_count": 181,
   "id": "c36954fd-1779-44ab-9c4d-0238d806d618",
   "metadata": {},
   "outputs": [
    {
     "data": {
      "text/plain": [
       "[(64, 77000), (67, 640)]"
      ]
     },
     "execution_count": 181,
     "metadata": {},
     "output_type": "execute_result"
    }
   ],
   "source": [
    "numero_dept_min = 50\n",
    "liste_departement_population = []\n",
    "for _, departement, population in liste_tuples_villes:\n",
    "    if departement >= numero_dept_min:\n",
    "        # print(departement)\n",
    "        liste_departement_population.append((departement, population))\n",
    "liste_departement_population"
   ]
  },
  {
   "cell_type": "markdown",
   "id": "399281cf-59e2-4fcb-81cc-89fa6c56dd33",
   "metadata": {},
   "source": [
    "## Dictionnaires\n",
    "type dict = 'liste' d'associations clé-valeur\n",
    "\n",
    "NB: chaque clé est unique"
   ]
  },
  {
   "cell_type": "code",
   "execution_count": 185,
   "id": "7dbd70a6-571f-4318-aafc-905fc019af09",
   "metadata": {},
   "outputs": [
    {
     "data": {
      "text/plain": [
       "{'nom': 'Montpellier', 'département': 34, 'population': 307101}"
      ]
     },
     "execution_count": 185,
     "metadata": {},
     "output_type": "execute_result"
    }
   ],
   "source": [
    "ville_d = {'nom': 'Montpellier', 'département': 34, 'population': 307101}\n",
    "ville_d"
   ]
  },
  {
   "cell_type": "code",
   "execution_count": 187,
   "id": "8a6d8e27-4efb-4a11-93d6-b10194e6c0fa",
   "metadata": {},
   "outputs": [
    {
     "data": {
      "text/plain": [
       "dict"
      ]
     },
     "execution_count": 187,
     "metadata": {},
     "output_type": "execute_result"
    }
   ],
   "source": [
    "type(ville_d)"
   ]
  },
  {
   "cell_type": "code",
   "execution_count": 189,
   "id": "52d1b320-e109-43ce-b59c-7c44a39f8095",
   "metadata": {},
   "outputs": [
    {
     "data": {
      "text/plain": [
       "3"
      ]
     },
     "execution_count": 189,
     "metadata": {},
     "output_type": "execute_result"
    }
   ],
   "source": [
    "len(ville_d)"
   ]
  },
  {
   "cell_type": "code",
   "execution_count": 194,
   "id": "102f7f1d-fd39-4385-903c-1054ff21b5f9",
   "metadata": {},
   "outputs": [
    {
     "name": "stdout",
     "output_type": "stream",
     "text": [
      "Montpellier\n",
      "34\n",
      "307101\n"
     ]
    }
   ],
   "source": [
    "# accès par clé\n",
    "print(ville_d['nom'])\n",
    "print(ville_d['département'])\n",
    "print(ville_d['population'])"
   ]
  },
  {
   "cell_type": "code",
   "execution_count": 197,
   "id": "b042fe9d-aa66-4cdf-8ec4-b7ac1f978fc1",
   "metadata": {},
   "outputs": [
    {
     "data": {
      "text/plain": [
       "{'nom': 'Montpellier', 'département': 34, 'population': 307301}"
      ]
     },
     "execution_count": 197,
     "metadata": {},
     "output_type": "execute_result"
    }
   ],
   "source": [
    "ville_d['population'] += 200\n",
    "ville_d"
   ]
  },
  {
   "cell_type": "code",
   "execution_count": 201,
   "id": "6a2a07fe-e5b3-4f84-a9e0-00eb20e51d46",
   "metadata": {},
   "outputs": [],
   "source": [
    "# ville_d['superficie']\n",
    "# => KeyError: 'superficie'"
   ]
  },
  {
   "cell_type": "code",
   "execution_count": 203,
   "id": "329ef683-db0d-4376-81a5-ae9be4bd5bb8",
   "metadata": {},
   "outputs": [
    {
     "data": {
      "text/plain": [
       "{'nom': 'Montpellier',\n",
       " 'département': 34,\n",
       " 'population': 307301,\n",
       " 'superficie': 56.88}"
      ]
     },
     "execution_count": 203,
     "metadata": {},
     "output_type": "execute_result"
    }
   ],
   "source": [
    "ville_d['superficie'] = 56.88\n",
    "ville_d"
   ]
  },
  {
   "cell_type": "code",
   "execution_count": 205,
   "id": "d5d3492c-ac77-4867-8364-43413aa6a409",
   "metadata": {},
   "outputs": [
    {
     "data": {
      "text/plain": [
       "56.88"
      ]
     },
     "execution_count": 205,
     "metadata": {},
     "output_type": "execute_result"
    }
   ],
   "source": [
    "ville_d['superficie']"
   ]
  },
  {
   "cell_type": "code",
   "execution_count": 207,
   "id": "b76d988e-dbe9-4e1a-8df8-f8b5637d434e",
   "metadata": {},
   "outputs": [
    {
     "data": {
      "text/plain": [
       "{'nom': 'Montpellier', 'département': 34, 'population': 307301}"
      ]
     },
     "execution_count": 207,
     "metadata": {},
     "output_type": "execute_result"
    }
   ],
   "source": [
    "del ville_d['superficie']\n",
    "ville_d"
   ]
  },
  {
   "cell_type": "code",
   "execution_count": 213,
   "id": "f2f81178-e0c8-455d-911e-d5b50266061d",
   "metadata": {},
   "outputs": [
    {
     "name": "stdout",
     "output_type": "stream",
     "text": [
      "False\n",
      "True\n"
     ]
    }
   ],
   "source": [
    "# demander si une clé est présente dans le dictionnaire\n",
    "print('superficie' in ville_d)\n",
    "print('nom' in ville_d)"
   ]
  },
  {
   "cell_type": "code",
   "execution_count": 217,
   "id": "4ef68e85-ad59-48e5-8858-0636031cd131",
   "metadata": {},
   "outputs": [
    {
     "name": "stdout",
     "output_type": "stream",
     "text": [
      "nom\n",
      "département\n",
      "population\n"
     ]
    }
   ],
   "source": [
    "# parcours implicite d'un dictionnaire => sur ses clés\n",
    "for nom_info in ville_d:\n",
    "    print(nom_info)"
   ]
  },
  {
   "cell_type": "code",
   "execution_count": 223,
   "id": "b40ca3be-5af6-4993-a633-f7f1004214f8",
   "metadata": {},
   "outputs": [
    {
     "name": "stdout",
     "output_type": "stream",
     "text": [
      "nom\n",
      "département\n",
      "population\n"
     ]
    }
   ],
   "source": [
    "# parcours sur les clés\n",
    "for nom_info in ville_d.keys():\n",
    "    print(nom_info)"
   ]
  },
  {
   "cell_type": "code",
   "execution_count": 219,
   "id": "caad678c-fcca-4814-86f3-ce1074e605ae",
   "metadata": {},
   "outputs": [
    {
     "name": "stdout",
     "output_type": "stream",
     "text": [
      "Montpellier\n",
      "34\n",
      "307301\n"
     ]
    }
   ],
   "source": [
    "# parcours sur les valeurs\n",
    "for valeur_info in ville_d.values():\n",
    "    print(valeur_info)"
   ]
  },
  {
   "cell_type": "code",
   "execution_count": 227,
   "id": "cdc80c04-9f5c-4539-a39d-fbd00efa5bba",
   "metadata": {},
   "outputs": [
    {
     "name": "stdout",
     "output_type": "stream",
     "text": [
      "nom -> Montpellier\n",
      "département -> 34\n",
      "population -> 307301\n"
     ]
    }
   ],
   "source": [
    "# parcours sur les (clé, valeur)\n",
    "for nom_info, valeur_info in ville_d.items():\n",
    "    print(nom_info, '->', valeur_info)"
   ]
  },
  {
   "cell_type": "code",
   "execution_count": 229,
   "id": "e7ca847e-c434-4f70-9c2c-ef35b0d88efc",
   "metadata": {},
   "outputs": [
    {
     "data": {
      "text/plain": [
       "['nom', 'département', 'population']"
      ]
     },
     "execution_count": 229,
     "metadata": {},
     "output_type": "execute_result"
    }
   ],
   "source": [
    "list(ville_d.keys())"
   ]
  },
  {
   "cell_type": "code",
   "execution_count": 231,
   "id": "a5ea1928-17f5-44e8-bd0b-f94c7b1c4d8f",
   "metadata": {},
   "outputs": [
    {
     "data": {
      "text/plain": [
       "['Montpellier', 34, 307301]"
      ]
     },
     "execution_count": 231,
     "metadata": {},
     "output_type": "execute_result"
    }
   ],
   "source": [
    "list(ville_d.values())"
   ]
  },
  {
   "cell_type": "code",
   "execution_count": 235,
   "id": "910fc10c-9ee9-4b04-9c0d-df82bfc5101f",
   "metadata": {},
   "outputs": [
    {
     "data": {
      "text/plain": [
       "('Montpellier', 34, 307301)"
      ]
     },
     "execution_count": 235,
     "metadata": {},
     "output_type": "execute_result"
    }
   ],
   "source": [
    "tuple(ville_d.values())"
   ]
  },
  {
   "cell_type": "code",
   "execution_count": 233,
   "id": "e00b234c-6949-41c2-8c0a-fa021c5611ac",
   "metadata": {},
   "outputs": [
    {
     "data": {
      "text/plain": [
       "[('nom', 'Montpellier'), ('département', 34), ('population', 307301)]"
      ]
     },
     "execution_count": 233,
     "metadata": {},
     "output_type": "execute_result"
    }
   ],
   "source": [
    "list(ville_d.items())"
   ]
  },
  {
   "cell_type": "markdown",
   "id": "dda7d8f6-e199-4341-9365-5de0890b4461",
   "metadata": {},
   "source": [
    "### Exercice\n",
    "Représentation de plusieurs villes avec des dictionnaires\n",
    "- Fabriquer une liste de dictionnaires à partir de la liste de tuples\n",
    "- Afficher les villes à partir de cette nouvelle liste\n",
    "- Calculer la population totale à partir de cette nouvelle liste"
   ]
  },
  {
   "cell_type": "code",
   "execution_count": 238,
   "id": "4ddac593-12b6-4770-ac4d-38953d8d4365",
   "metadata": {},
   "outputs": [
    {
     "data": {
      "text/plain": [
       "[('Montpellier', 34, 307101),\n",
       " ('Toulouse', 31, 511684),\n",
       " ('Pau', 64, 77000),\n",
       " ('Mittelbergheim', 67, 640)]"
      ]
     },
     "execution_count": 238,
     "metadata": {},
     "output_type": "execute_result"
    }
   ],
   "source": [
    "liste_tuples_villes"
   ]
  }
 ],
 "metadata": {
  "kernelspec": {
   "display_name": "Python 3 (ipykernel)",
   "language": "python",
   "name": "python3"
  },
  "language_info": {
   "codemirror_mode": {
    "name": "ipython",
    "version": 3
   },
   "file_extension": ".py",
   "mimetype": "text/x-python",
   "name": "python",
   "nbconvert_exporter": "python",
   "pygments_lexer": "ipython3",
   "version": "3.12.3"
  }
 },
 "nbformat": 4,
 "nbformat_minor": 5
}
