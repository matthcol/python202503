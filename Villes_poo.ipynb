{
 "cells": [
  {
   "cell_type": "markdown",
   "id": "1e72a0c0-1c42-4a1a-a968-8ee37dbfdf86",
   "metadata": {},
   "source": [
    "# Programmation Orientée Objets: classe City"
   ]
  },
  {
   "cell_type": "code",
   "execution_count": 2,
   "id": "5b8d1f03-d6b8-45bb-8426-9c14ed21b65c",
   "metadata": {},
   "outputs": [],
   "source": [
    "from dataclasses import dataclass"
   ]
  },
  {
   "cell_type": "markdown",
   "id": "8f3ed4ad-1576-43c1-8262-0e557dde0b52",
   "metadata": {},
   "source": [
    "## Introduction"
   ]
  },
  {
   "cell_type": "code",
   "execution_count": 4,
   "id": "fdf1c593-6684-4e36-9a1b-363b6c9ddec0",
   "metadata": {},
   "outputs": [],
   "source": [
    "city_d = {\n",
    "    'name': 'Montpellier',\n",
    "    'department': 34,\n",
    "    'population': 307_101,\n",
    "}"
   ]
  },
  {
   "cell_type": "code",
   "execution_count": 5,
   "id": "554e018b-e899-4701-9747-df8b8b010a09",
   "metadata": {},
   "outputs": [
    {
     "data": {
      "text/plain": [
       "'Montpellier'"
      ]
     },
     "execution_count": 5,
     "metadata": {},
     "output_type": "execute_result"
    }
   ],
   "source": [
    "city_d['name']"
   ]
  },
  {
   "cell_type": "markdown",
   "id": "8be9bf6e-64bd-4cec-9ee6-d991bd0709b1",
   "metadata": {},
   "source": [
    "## Définition de la classe City"
   ]
  },
  {
   "cell_type": "code",
   "execution_count": 7,
   "id": "cbcd28af-1210-471c-a78d-6f5c676a3cbe",
   "metadata": {},
   "outputs": [],
   "source": [
    "# la classe City définit un nouveau type de données\n",
    "\n",
    "@dataclass\n",
    "class City:\n",
    "    name: str\n",
    "    department: str\n",
    "    population: int"
   ]
  },
  {
   "cell_type": "markdown",
   "id": "84808a2e-be50-4f8b-b383-d95ff39a7bfb",
   "metadata": {},
   "source": [
    "## Utilisation de la classe City"
   ]
  },
  {
   "cell_type": "code",
   "execution_count": 9,
   "id": "06a56308-97d4-4ea1-85fa-89c7705bab50",
   "metadata": {},
   "outputs": [],
   "source": [
    "city_list: list[City] = []"
   ]
  },
  {
   "cell_type": "code",
   "execution_count": 10,
   "id": "fb85dced-19a3-48d0-9e60-eb24cf433035",
   "metadata": {},
   "outputs": [
    {
     "name": "stdout",
     "output_type": "stream",
     "text": [
      "City(name='Montpellier', department='34', population=307101)\n"
     ]
    },
    {
     "data": {
      "text/plain": [
       "City(name='Montpellier', department='34', population=307101)"
      ]
     },
     "execution_count": 10,
     "metadata": {},
     "output_type": "execute_result"
    }
   ],
   "source": [
    "# création d'un objet à partir de la classe City\n",
    "city1 = City('Montpellier', '34', 307_101)\n",
    "city_list.append(city1)\n",
    "print(city1)\n",
    "city1"
   ]
  },
  {
   "cell_type": "code",
   "execution_count": 11,
   "id": "1bdd7c08-7638-4270-949d-5188d66c488b",
   "metadata": {},
   "outputs": [
    {
     "data": {
      "text/plain": [
       "__main__.City"
      ]
     },
     "execution_count": 11,
     "metadata": {},
     "output_type": "execute_result"
    }
   ],
   "source": [
    "type(city1)"
   ]
  },
  {
   "cell_type": "code",
   "execution_count": 12,
   "id": "4df397e4-ae01-4214-a83d-10731323ca85",
   "metadata": {},
   "outputs": [
    {
     "data": {
      "text/plain": [
       "City(name='Pau', department='64', population=77000)"
      ]
     },
     "execution_count": 12,
     "metadata": {},
     "output_type": "execute_result"
    }
   ],
   "source": [
    "# création d'un 2e objet à partir de la classe City\n",
    "city2 = City('Pau', '64', 77_000)\n",
    "city_list.append(city2)\n",
    "city2"
   ]
  },
  {
   "cell_type": "code",
   "execution_count": 13,
   "id": "9c548915-67d4-4302-aab6-7ea818a464ad",
   "metadata": {},
   "outputs": [
    {
     "data": {
      "text/plain": [
       "City(name='Mittelbergheim', department='67', population=640)"
      ]
     },
     "execution_count": 13,
     "metadata": {},
     "output_type": "execute_result"
    }
   ],
   "source": [
    "# création d'un 3e objet à partir de la classe City\n",
    "city3 = City(name='Mittelbergheim', department='67', population=640)\n",
    "city_list.append(city3)\n",
    "city3"
   ]
  },
  {
   "cell_type": "code",
   "execution_count": 14,
   "id": "fbedf1b2-a5ec-4d5b-bb87-8a78dfd86ce2",
   "metadata": {},
   "outputs": [
    {
     "data": {
      "text/plain": [
       "[City(name='Montpellier', department='34', population=307101),\n",
       " City(name='Pau', department='64', population=77000),\n",
       " City(name='Mittelbergheim', department='67', population=640)]"
      ]
     },
     "execution_count": 14,
     "metadata": {},
     "output_type": "execute_result"
    }
   ],
   "source": [
    "city_list"
   ]
  },
  {
   "cell_type": "code",
   "execution_count": 15,
   "id": "d25fcbc6-2b7e-47c4-90dd-93be70a35f14",
   "metadata": {},
   "outputs": [
    {
     "data": {
      "text/plain": [
       "__main__.City"
      ]
     },
     "execution_count": 15,
     "metadata": {},
     "output_type": "execute_result"
    }
   ],
   "source": [
    "type(city_list[0])"
   ]
  },
  {
   "cell_type": "code",
   "execution_count": 16,
   "id": "6f6bf32c-2ae5-4549-9a24-ef46332e6060",
   "metadata": {},
   "outputs": [
    {
     "data": {
      "text/plain": [
       "list"
      ]
     },
     "execution_count": 16,
     "metadata": {},
     "output_type": "execute_result"
    }
   ],
   "source": [
    "type(city_list)"
   ]
  },
  {
   "cell_type": "code",
   "execution_count": 17,
   "id": "7a706f87-0926-4230-a3ad-3f4fdf2d77b3",
   "metadata": {},
   "outputs": [
    {
     "name": "stdout",
     "output_type": "stream",
     "text": [
      "Montpellier\n",
      "Pau\n",
      "Mittelbergheim\n"
     ]
    }
   ],
   "source": [
    "for city in city_list:\n",
    "    print(city.name)"
   ]
  },
  {
   "cell_type": "code",
   "execution_count": 18,
   "id": "5a6c3f52-3c21-4f51-8ffd-bd92d02b873a",
   "metadata": {},
   "outputs": [
    {
     "name": "stdout",
     "output_type": "stream",
     "text": [
      "- Montpellier, département 34, population de 307101\n",
      "- Pau, département 64, population de 77000\n",
      "- Mittelbergheim, département 67, population de 640\n"
     ]
    }
   ],
   "source": [
    "for city in city_list:\n",
    "    print(f\"- {city.name}, département {city.department}, population de {city.population}\")"
   ]
  },
  {
   "cell_type": "code",
   "execution_count": 19,
   "id": "4cec8c9d-e2c9-403a-ac7d-4eeb57b1a9c7",
   "metadata": {},
   "outputs": [],
   "source": [
    "city_list.append(City(name='Lyon', department='69', population=500_000))"
   ]
  },
  {
   "cell_type": "markdown",
   "id": "6a5c1b1d-7fa8-4778-9b9b-b30a00d1d6b6",
   "metadata": {},
   "source": [
    "### Exercice\n",
    "calculer la population totale des villes de la liste"
   ]
  }
 ],
 "metadata": {
  "kernelspec": {
   "display_name": "Python 3 (ipykernel)",
   "language": "python",
   "name": "python3"
  },
  "language_info": {
   "codemirror_mode": {
    "name": "ipython",
    "version": 3
   },
   "file_extension": ".py",
   "mimetype": "text/x-python",
   "name": "python",
   "nbconvert_exporter": "python",
   "pygments_lexer": "ipython3",
   "version": "3.12.3"
  }
 },
 "nbformat": 4,
 "nbformat_minor": 5
}
