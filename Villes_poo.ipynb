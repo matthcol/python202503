{
 "cells": [
  {
   "cell_type": "markdown",
   "id": "1e72a0c0-1c42-4a1a-a968-8ee37dbfdf86",
   "metadata": {},
   "source": [
    "# Programmation Orientée Objets: classe City"
   ]
  },
  {
   "cell_type": "code",
   "execution_count": 2,
   "id": "5b8d1f03-d6b8-45bb-8426-9c14ed21b65c",
   "metadata": {},
   "outputs": [],
   "source": [
    "from dataclasses import dataclass"
   ]
  },
  {
   "cell_type": "markdown",
   "id": "8f3ed4ad-1576-43c1-8262-0e557dde0b52",
   "metadata": {},
   "source": [
    "## Introduction"
   ]
  },
  {
   "cell_type": "code",
   "execution_count": 4,
   "id": "fdf1c593-6684-4e36-9a1b-363b6c9ddec0",
   "metadata": {},
   "outputs": [],
   "source": [
    "city_d = {\n",
    "    'name': 'Montpellier',\n",
    "    'department': 34,\n",
    "    'population': 307_101,\n",
    "}"
   ]
  },
  {
   "cell_type": "code",
   "execution_count": 5,
   "id": "554e018b-e899-4701-9747-df8b8b010a09",
   "metadata": {},
   "outputs": [
    {
     "data": {
      "text/plain": [
       "'Montpellier'"
      ]
     },
     "execution_count": 5,
     "metadata": {},
     "output_type": "execute_result"
    }
   ],
   "source": [
    "city_d['name']"
   ]
  },
  {
   "cell_type": "markdown",
   "id": "8be9bf6e-64bd-4cec-9ee6-d991bd0709b1",
   "metadata": {},
   "source": [
    "## Définition de la classe City"
   ]
  },
  {
   "cell_type": "code",
   "execution_count": 7,
   "id": "cbcd28af-1210-471c-a78d-6f5c676a3cbe",
   "metadata": {},
   "outputs": [],
   "source": [
    "# la classe City définit un nouveau type de données\n",
    "\n",
    "@dataclass\n",
    "class City:\n",
    "    name: str\n",
    "    department: str\n",
    "    population: int"
   ]
  },
  {
   "cell_type": "markdown",
   "id": "84808a2e-be50-4f8b-b383-d95ff39a7bfb",
   "metadata": {},
   "source": [
    "## Utilisation de la classe City"
   ]
  },
  {
   "cell_type": "code",
   "execution_count": 9,
   "id": "06a56308-97d4-4ea1-85fa-89c7705bab50",
   "metadata": {},
   "outputs": [],
   "source": [
    "city_list: list[City] = []"
   ]
  },
  {
   "cell_type": "code",
   "execution_count": 10,
   "id": "fb85dced-19a3-48d0-9e60-eb24cf433035",
   "metadata": {},
   "outputs": [
    {
     "name": "stdout",
     "output_type": "stream",
     "text": [
      "City(name='Montpellier', department='34', population=307101)\n"
     ]
    },
    {
     "data": {
      "text/plain": [
       "City(name='Montpellier', department='34', population=307101)"
      ]
     },
     "execution_count": 10,
     "metadata": {},
     "output_type": "execute_result"
    }
   ],
   "source": [
    "# création d'un objet à partir de la classe City\n",
    "city1 = City('Montpellier', '34', 307_101)\n",
    "city_list.append(city1)\n",
    "print(city1)\n",
    "city1"
   ]
  },
  {
   "cell_type": "code",
   "execution_count": 11,
   "id": "1bdd7c08-7638-4270-949d-5188d66c488b",
   "metadata": {},
   "outputs": [
    {
     "data": {
      "text/plain": [
       "__main__.City"
      ]
     },
     "execution_count": 11,
     "metadata": {},
     "output_type": "execute_result"
    }
   ],
   "source": [
    "type(city1)"
   ]
  },
  {
   "cell_type": "code",
   "execution_count": 12,
   "id": "4df397e4-ae01-4214-a83d-10731323ca85",
   "metadata": {},
   "outputs": [
    {
     "data": {
      "text/plain": [
       "City(name='Pau', department='64', population=77000)"
      ]
     },
     "execution_count": 12,
     "metadata": {},
     "output_type": "execute_result"
    }
   ],
   "source": [
    "# création d'un 2e objet à partir de la classe City\n",
    "city2 = City('Pau', '64', 77_000)\n",
    "city_list.append(city2)\n",
    "city2"
   ]
  },
  {
   "cell_type": "code",
   "execution_count": 13,
   "id": "9c548915-67d4-4302-aab6-7ea818a464ad",
   "metadata": {},
   "outputs": [
    {
     "data": {
      "text/plain": [
       "City(name='Mittelbergheim', department='67', population=640)"
      ]
     },
     "execution_count": 13,
     "metadata": {},
     "output_type": "execute_result"
    }
   ],
   "source": [
    "# création d'un 3e objet à partir de la classe City\n",
    "city3 = City(name='Mittelbergheim', department='67', population=640)\n",
    "city_list.append(city3)\n",
    "city3"
   ]
  },
  {
   "cell_type": "code",
   "execution_count": 14,
   "id": "fbedf1b2-a5ec-4d5b-bb87-8a78dfd86ce2",
   "metadata": {},
   "outputs": [
    {
     "data": {
      "text/plain": [
       "[City(name='Montpellier', department='34', population=307101),\n",
       " City(name='Pau', department='64', population=77000),\n",
       " City(name='Mittelbergheim', department='67', population=640)]"
      ]
     },
     "execution_count": 14,
     "metadata": {},
     "output_type": "execute_result"
    }
   ],
   "source": [
    "city_list"
   ]
  },
  {
   "cell_type": "code",
   "execution_count": 15,
   "id": "d25fcbc6-2b7e-47c4-90dd-93be70a35f14",
   "metadata": {},
   "outputs": [
    {
     "data": {
      "text/plain": [
       "__main__.City"
      ]
     },
     "execution_count": 15,
     "metadata": {},
     "output_type": "execute_result"
    }
   ],
   "source": [
    "type(city_list[0])"
   ]
  },
  {
   "cell_type": "code",
   "execution_count": 16,
   "id": "6f6bf32c-2ae5-4549-9a24-ef46332e6060",
   "metadata": {},
   "outputs": [
    {
     "data": {
      "text/plain": [
       "list"
      ]
     },
     "execution_count": 16,
     "metadata": {},
     "output_type": "execute_result"
    }
   ],
   "source": [
    "type(city_list)"
   ]
  },
  {
   "cell_type": "code",
   "execution_count": 17,
   "id": "7a706f87-0926-4230-a3ad-3f4fdf2d77b3",
   "metadata": {},
   "outputs": [
    {
     "name": "stdout",
     "output_type": "stream",
     "text": [
      "Montpellier\n",
      "Pau\n",
      "Mittelbergheim\n"
     ]
    }
   ],
   "source": [
    "for city in city_list:\n",
    "    print(city.name)"
   ]
  },
  {
   "cell_type": "code",
   "execution_count": 18,
   "id": "5a6c3f52-3c21-4f51-8ffd-bd92d02b873a",
   "metadata": {},
   "outputs": [
    {
     "name": "stdout",
     "output_type": "stream",
     "text": [
      "- Montpellier, département 34, population de 307101\n",
      "- Pau, département 64, population de 77000\n",
      "- Mittelbergheim, département 67, population de 640\n"
     ]
    }
   ],
   "source": [
    "for city in city_list:\n",
    "    print(f\"- {city.name}, département {city.department}, population de {city.population}\")"
   ]
  },
  {
   "cell_type": "code",
   "execution_count": 19,
   "id": "4cec8c9d-e2c9-403a-ac7d-4eeb57b1a9c7",
   "metadata": {},
   "outputs": [],
   "source": [
    "city_list.append(City(name='Lyon', department='69', population=500_000))"
   ]
  },
  {
   "cell_type": "markdown",
   "id": "6a5c1b1d-7fa8-4778-9b9b-b30a00d1d6b6",
   "metadata": {},
   "source": [
    "### Exercice\n",
    "calculer la population totale des villes de la liste"
   ]
  },
  {
   "cell_type": "markdown",
   "id": "a4d9bb8e-e6d4-4566-ab10-4d76793b1e05",
   "metadata": {},
   "source": [
    "#### solution 1"
   ]
  },
  {
   "cell_type": "code",
   "execution_count": 22,
   "id": "229213a7-9ecf-4794-b95d-75bbfb6fe138",
   "metadata": {},
   "outputs": [
    {
     "data": {
      "text/plain": [
       "884741"
      ]
     },
     "execution_count": 22,
     "metadata": {},
     "output_type": "execute_result"
    }
   ],
   "source": [
    "total_population = 0\n",
    "for city in city_list:\n",
    "    total_population += city.population\n",
    "total_population"
   ]
  },
  {
   "cell_type": "markdown",
   "id": "30828a4d-46fe-4ef7-85ab-6aaea1143015",
   "metadata": {},
   "source": [
    "#### solution 2\n",
    "NB: pas la plus efficace car 2 parcours"
   ]
  },
  {
   "cell_type": "code",
   "execution_count": 24,
   "id": "72c88ab0-dffa-4e98-a341-ed8c38834856",
   "metadata": {},
   "outputs": [
    {
     "data": {
      "text/plain": [
       "[307101, 77000, 640, 500000]"
      ]
     },
     "execution_count": 24,
     "metadata": {},
     "output_type": "execute_result"
    }
   ],
   "source": [
    "population_list = []\n",
    "for city in city_list:\n",
    "    population_list.append(city.population)\n",
    "population_list"
   ]
  },
  {
   "cell_type": "code",
   "execution_count": 25,
   "id": "ac5e27ee-65df-4906-8c94-26f48d2d867a",
   "metadata": {},
   "outputs": [
    {
     "data": {
      "text/plain": [
       "884741"
      ]
     },
     "execution_count": 25,
     "metadata": {},
     "output_type": "execute_result"
    }
   ],
   "source": [
    "total_population = sum(population_list)\n",
    "total_population"
   ]
  },
  {
   "cell_type": "markdown",
   "id": "b4e30864-46d1-4498-b67e-5dad1d68366d",
   "metadata": {},
   "source": [
    "#### solution 3: expression for"
   ]
  },
  {
   "cell_type": "code",
   "execution_count": 27,
   "id": "b4f557ed-8ef0-42ad-94ed-b948d42affa4",
   "metadata": {},
   "outputs": [
    {
     "data": {
      "text/plain": [
       "884741"
      ]
     },
     "execution_count": 27,
     "metadata": {},
     "output_type": "execute_result"
    }
   ],
   "source": [
    "total_population = sum(city.population for city in city_list)\n",
    "total_population"
   ]
  },
  {
   "cell_type": "code",
   "execution_count": 28,
   "id": "e5c4a609-924f-4843-9403-534ba37da096",
   "metadata": {},
   "outputs": [
    {
     "data": {
      "text/plain": [
       "<generator object <genexpr> at 0x000001C27DA5AD40>"
      ]
     },
     "execution_count": 28,
     "metadata": {},
     "output_type": "execute_result"
    }
   ],
   "source": [
    "# expression for constitue un generator de valeurs\n",
    "# prêt à être consommées\n",
    "(city.population for city in city_list)"
   ]
  },
  {
   "cell_type": "code",
   "execution_count": 29,
   "id": "aaec529f-0294-41cb-99f4-a957e6a44620",
   "metadata": {},
   "outputs": [
    {
     "data": {
      "text/plain": [
       "[307101, 77000, 640, 500000]"
      ]
     },
     "execution_count": 29,
     "metadata": {},
     "output_type": "execute_result"
    }
   ],
   "source": [
    "# list comprehension: les valeurs de l'expression for sont collectées dans une liste\n",
    "[city.population for city in city_list]"
   ]
  },
  {
   "cell_type": "code",
   "execution_count": 30,
   "id": "cf8d4507-4b46-40fa-9dcc-b6c6aa0c0ced",
   "metadata": {},
   "outputs": [
    {
     "data": {
      "text/plain": [
       "[307101, 77000, 640, 500000]"
      ]
     },
     "execution_count": 30,
     "metadata": {},
     "output_type": "execute_result"
    }
   ],
   "source": [
    "# equivalent avec la fonction list\n",
    "list(city.population for city in city_list)"
   ]
  },
  {
   "cell_type": "code",
   "execution_count": 97,
   "id": "54047599-1eb3-44c0-8909-0451b98ff789",
   "metadata": {},
   "outputs": [
    {
     "data": {
      "text/plain": [
       "[City(name='Montpellier', department='34', population=307101),\n",
       " City(name='Pau', department='64', population=78620),\n",
       " City(name='Mittelbergheim', department='67', population=640),\n",
       " City(name='Lyon', department='69', population=500000),\n",
       " City(name='Le Crès', department='34', population=9295),\n",
       " City(name='Le Crès', department='34', population=9295),\n",
       " City(name='Le Crès', department='34', population=9295),\n",
       " City(name='Le Crès', department='34', population=9295),\n",
       " City(name='Le Crès', department='34', population=9295),\n",
       " City(name='Le Crès', department='34', population=9295),\n",
       " City(name='Le Crès', department='34', population=9295),\n",
       " City(name='Le Crès', department='34', population=9295),\n",
       " City(name='Le Crès', department='34', population=9295),\n",
       " City(name='Le Crès', department='34', population=9295),\n",
       " City(name='Le Crès', department='34', population=9295),\n",
       " City(name='Le Crès', department='34', population=9295),\n",
       " City(name='Le Crès', department='34', population=9295),\n",
       " City(name='Le Crès', department='34', population=9295)]"
      ]
     },
     "execution_count": 97,
     "metadata": {},
     "output_type": "execute_result"
    }
   ],
   "source": [
    "city_list.append(City(name='Le Crès', department='34', population=9_295))\n",
    "city_list"
   ]
  },
  {
   "cell_type": "code",
   "execution_count": 32,
   "id": "56b236f6-1d86-467b-ab2c-527d0de7711c",
   "metadata": {},
   "outputs": [],
   "source": [
    "# Nettoyage de la liste si on a executé plusieurs fois le append\n",
    "\n",
    "# 1. lecture\n",
    "# city_list[-1]\n",
    "\n",
    "# 2. suppression\n",
    "# del city_list[-1]\n",
    "\n",
    "# 3. vérification\n",
    "# city_list"
   ]
  },
  {
   "cell_type": "code",
   "execution_count": 33,
   "id": "6ed34dbf-08ca-4121-a668-2964ab60a621",
   "metadata": {},
   "outputs": [
    {
     "data": {
      "text/plain": [
       "[307101, 9295]"
      ]
     },
     "execution_count": 33,
     "metadata": {},
     "output_type": "execute_result"
    }
   ],
   "source": [
    "# population totale du 34\n",
    "\n",
    "# étape intermédiaire\n",
    "[city.population for city in city_list if city.department == '34']"
   ]
  },
  {
   "cell_type": "code",
   "execution_count": 34,
   "id": "6ed90c00-4039-4cc2-9408-19fc4f925cc8",
   "metadata": {},
   "outputs": [
    {
     "data": {
      "text/plain": [
       "316396"
      ]
     },
     "execution_count": 34,
     "metadata": {},
     "output_type": "execute_result"
    }
   ],
   "source": [
    "total_population_34 = sum(city.population for city in city_list if city.department == '34')\n",
    "total_population_34"
   ]
  },
  {
   "cell_type": "code",
   "execution_count": 35,
   "id": "ebdec351-c5b2-4972-afde-b574a42d7c90",
   "metadata": {},
   "outputs": [
    {
     "name": "stdout",
     "output_type": "stream",
     "text": [
      "City(name='Pau', department='64', population=77000)\n",
      "City(name='Pau', department='64', population=78620)\n"
     ]
    }
   ],
   "source": [
    "print(city2)\n",
    "city2.population = 78_620\n",
    "print(city2)"
   ]
  },
  {
   "cell_type": "code",
   "execution_count": 36,
   "id": "935c6332-d24b-4ca1-9f12-26b807b9f8b0",
   "metadata": {},
   "outputs": [
    {
     "data": {
      "text/plain": [
       "[City(name='Montpellier', department='34', population=307101),\n",
       " City(name='Pau', department='64', population=78620),\n",
       " City(name='Mittelbergheim', department='67', population=640),\n",
       " City(name='Lyon', department='69', population=500000),\n",
       " City(name='Le Crès', department='34', population=9295)]"
      ]
     },
     "execution_count": 36,
     "metadata": {},
     "output_type": "execute_result"
    }
   ],
   "source": [
    "city_list"
   ]
  },
  {
   "cell_type": "code",
   "execution_count": 101,
   "id": "2dea1f1b-5b25-4cd7-b98e-b0257674434d",
   "metadata": {},
   "outputs": [
    {
     "data": {
      "text/plain": [
       "4"
      ]
     },
     "execution_count": 101,
     "metadata": {},
     "output_type": "execute_result"
    }
   ],
   "source": [
    "index_found = None\n",
    "for i, city in enumerate(city_list):\n",
    "    if city.name == 'Le Crès':\n",
    "        index_found = i\n",
    "        break # sort de la boucle\n",
    "index_found"
   ]
  },
  {
   "cell_type": "code",
   "execution_count": 71,
   "id": "ad3f2f38-f796-46bf-bc05-8b1f8a275af1",
   "metadata": {},
   "outputs": [
    {
     "data": {
      "text/plain": [
       "City(name='Le Crès', department='34', population=9295)"
      ]
     },
     "execution_count": 71,
     "metadata": {},
     "output_type": "execute_result"
    }
   ],
   "source": [
    "city_list[index_found]"
   ]
  }
 ],
 "metadata": {
  "kernelspec": {
   "display_name": "Python 3 (ipykernel)",
   "language": "python",
   "name": "python3"
  },
  "language_info": {
   "codemirror_mode": {
    "name": "ipython",
    "version": 3
   },
   "file_extension": ".py",
   "mimetype": "text/x-python",
   "name": "python",
   "nbconvert_exporter": "python",
   "pygments_lexer": "ipython3",
   "version": "3.12.3"
  }
 },
 "nbformat": 4,
 "nbformat_minor": 5
}
