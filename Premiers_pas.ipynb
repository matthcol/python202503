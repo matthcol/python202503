{
 "cells": [
  {
   "cell_type": "markdown",
   "id": "69232f13-c900-4133-a214-3d3de284363f",
   "metadata": {},
   "source": [
    "# Premiers pas en Python\n",
    "\n",
    "- Site officiel Python: https://python.org\n",
    "- Notebook hébergé ici: https://github.com/matthcol/python202503"
   ]
  },
  {
   "cell_type": "markdown",
   "id": "30782a97-cc73-4fd6-97e3-29c4be35ce58",
   "metadata": {},
   "source": [
    "## Exemple Introduction"
   ]
  },
  {
   "cell_type": "code",
   "execution_count": 3,
   "id": "d5399615-3dc6-4cd1-9237-b80732a518f7",
   "metadata": {},
   "outputs": [
    {
     "name": "stdout",
     "output_type": "stream",
     "text": [
      "Apprendre le Python\n",
      "Première partie: utiliser Jupyter Lab\n",
      "Aujourd'hui, il fait beau\n",
      "Aujourd'hui, je dis: \"il fait beau\"\n"
     ]
    }
   ],
   "source": [
    "print('Apprendre le Python')\n",
    "print('Première partie: utiliser Jupyter Lab')\n",
    "print(\"Aujourd'hui, il fait beau\")\n",
    "print(\"Aujourd'hui, je dis: \\\"il fait beau\\\"\")"
   ]
  },
  {
   "cell_type": "markdown",
   "id": "a3eda5e7-48c0-42d9-947e-04fb2c355368",
   "metadata": {},
   "source": [
    "## Variables et types simples"
   ]
  },
  {
   "cell_type": "markdown",
   "id": "ab7e064d-1155-4bee-8112-ab1f9e915a8f",
   "metadata": {},
   "source": [
    "### Données numériques\n",
    "- entiers: int\n",
    "- nombres à virgule: float, decimal"
   ]
  },
  {
   "cell_type": "markdown",
   "id": "3b99183b-35a7-4bcf-82ab-218184f44ea1",
   "metadata": {},
   "source": [
    "#### Entiers"
   ]
  },
  {
   "cell_type": "code",
   "execution_count": 7,
   "id": "87c76170-8021-47da-892f-e0d950e47c86",
   "metadata": {},
   "outputs": [
    {
     "data": {
      "text/plain": [
       "9"
      ]
     },
     "execution_count": 7,
     "metadata": {},
     "output_type": "execute_result"
    }
   ],
   "source": [
    "nombre_stagiaires = 9\n",
    "nombre_stagiaires"
   ]
  },
  {
   "cell_type": "code",
   "execution_count": 8,
   "id": "7ecce7fe-8e62-44d2-8062-07f6af76978e",
   "metadata": {},
   "outputs": [
    {
     "data": {
      "text/plain": [
       "10"
      ]
     },
     "execution_count": 8,
     "metadata": {},
     "output_type": "execute_result"
    }
   ],
   "source": [
    "nombre_stagiaires = 10\n",
    "nombre_stagiaires"
   ]
  },
  {
   "cell_type": "code",
   "execution_count": 9,
   "id": "3a28423f-1a5e-4b37-b961-7840b57cb892",
   "metadata": {},
   "outputs": [
    {
     "data": {
      "text/plain": [
       "int"
      ]
     },
     "execution_count": 9,
     "metadata": {},
     "output_type": "execute_result"
    }
   ],
   "source": [
    "type(nombre_stagiaires)"
   ]
  },
  {
   "cell_type": "code",
   "execution_count": 10,
   "id": "f0b5a61a-0ad1-47f9-95ff-4fb278515e36",
   "metadata": {},
   "outputs": [
    {
     "data": {
      "text/plain": [
       "30"
      ]
     },
     "execution_count": 10,
     "metadata": {},
     "output_type": "execute_result"
    }
   ],
   "source": [
    "nombre_stagiaires * 3"
   ]
  },
  {
   "cell_type": "code",
   "execution_count": 11,
   "id": "eed110bd-d3ee-4a33-82d3-6e2bfff9eb7b",
   "metadata": {},
   "outputs": [
    {
     "data": {
      "text/plain": [
       "28"
      ]
     },
     "execution_count": 11,
     "metadata": {},
     "output_type": "execute_result"
    }
   ],
   "source": [
    "(nombre_stagiaires + 4) * 3 - (nombre_stagiaires + 4)"
   ]
  },
  {
   "cell_type": "code",
   "execution_count": 12,
   "id": "1eb11f0b-188e-418f-ac94-4776f1bd3b4a",
   "metadata": {},
   "outputs": [
    {
     "data": {
      "text/plain": [
       "3.3333333333333335"
      ]
     },
     "execution_count": 12,
     "metadata": {},
     "output_type": "execute_result"
    }
   ],
   "source": [
    "# En python 3, la division '/' renvoie un nombre flottant\n",
    "nombre_stagiaires / 3"
   ]
  },
  {
   "cell_type": "code",
   "execution_count": 13,
   "id": "ab626287-6e6b-435e-8118-bc49fb258918",
   "metadata": {},
   "outputs": [
    {
     "data": {
      "text/plain": [
       "3"
      ]
     },
     "execution_count": 13,
     "metadata": {},
     "output_type": "execute_result"
    }
   ],
   "source": [
    "# Quotient de la division euclidienne\n",
    "nombre_stagiaires // 3"
   ]
  },
  {
   "cell_type": "code",
   "execution_count": 14,
   "id": "4b5c9073-de33-47e4-a875-19e4f557fc35",
   "metadata": {},
   "outputs": [
    {
     "data": {
      "text/plain": [
       "1"
      ]
     },
     "execution_count": 14,
     "metadata": {},
     "output_type": "execute_result"
    }
   ],
   "source": [
    "# Reste de la division euclidienne (modulo)\n",
    "nombre_stagiaires % 3"
   ]
  },
  {
   "cell_type": "code",
   "execution_count": 15,
   "id": "5cd9e596-1d5d-4ddd-9c93-607dab9f24d9",
   "metadata": {},
   "outputs": [
    {
     "data": {
      "text/plain": [
       "4"
      ]
     },
     "execution_count": 15,
     "metadata": {},
     "output_type": "execute_result"
    }
   ],
   "source": [
    "nombre2 = 4\n",
    "nombre2"
   ]
  },
  {
   "cell_type": "code",
   "execution_count": 16,
   "id": "cc9c83f6-637f-430b-a5d3-18494f14cdd8",
   "metadata": {},
   "outputs": [],
   "source": [
    "del nombre2\n",
    "\n",
    "# nombre2\n",
    "# NameError: name 'nombre2' is not defined"
   ]
  },
  {
   "cell_type": "code",
   "execution_count": 17,
   "id": "32c576c0-80cb-47ba-a0bb-d4bf32e02765",
   "metadata": {},
   "outputs": [
    {
     "data": {
      "text/plain": [
       "100"
      ]
     },
     "execution_count": 17,
     "metadata": {},
     "output_type": "execute_result"
    }
   ],
   "source": [
    "# operateur 'puissance'\n",
    "nombre_stagiaires**2"
   ]
  },
  {
   "cell_type": "code",
   "execution_count": 18,
   "id": "1f3e61ef-1ba3-407f-9b17-ea1d3b8315e7",
   "metadata": {},
   "outputs": [
    {
     "data": {
      "text/plain": [
       "1024"
      ]
     },
     "execution_count": 18,
     "metadata": {},
     "output_type": "execute_result"
    }
   ],
   "source": [
    "2**10"
   ]
  },
  {
   "cell_type": "markdown",
   "id": "8a35d596-105e-4a07-9e5d-db8a136638a8",
   "metadata": {},
   "source": [
    "#### Flottants\n",
    "Norme IEEE754: https://fr.wikipedia.org/wiki/IEEE_754"
   ]
  },
  {
   "cell_type": "code",
   "execution_count": 20,
   "id": "830acc27-fb8d-4f40-b568-cf447d12a4f5",
   "metadata": {},
   "outputs": [
    {
     "data": {
      "text/plain": [
       "18.4"
      ]
     },
     "execution_count": 20,
     "metadata": {},
     "output_type": "execute_result"
    }
   ],
   "source": [
    "temperature = 18.4\n",
    "temperature"
   ]
  },
  {
   "cell_type": "code",
   "execution_count": 21,
   "id": "eaeffca5-b7b3-4587-a32a-a0ae8bc9af99",
   "metadata": {},
   "outputs": [
    {
     "data": {
      "text/plain": [
       "float"
      ]
     },
     "execution_count": 21,
     "metadata": {},
     "output_type": "execute_result"
    }
   ],
   "source": [
    "type(temperature)"
   ]
  },
  {
   "cell_type": "code",
   "execution_count": 22,
   "id": "dfdecffd-ac95-4f1e-a33f-79bc9bbb290f",
   "metadata": {},
   "outputs": [
    {
     "data": {
      "text/plain": [
       "36.688979591836734"
      ]
     },
     "execution_count": 22,
     "metadata": {},
     "output_type": "execute_result"
    }
   ],
   "source": [
    "((temperature + 3) * 4 / 3.5 - temperature) ** 2"
   ]
  },
  {
   "cell_type": "code",
   "execution_count": 23,
   "id": "3a5e2de3-b70b-4d52-8219-745d82b0e11d",
   "metadata": {},
   "outputs": [
    {
     "data": {
      "text/plain": [
       "4.0"
      ]
     },
     "execution_count": 23,
     "metadata": {},
     "output_type": "execute_result"
    }
   ],
   "source": [
    "2.0 ** 2"
   ]
  },
  {
   "cell_type": "code",
   "execution_count": 24,
   "id": "dfa8ebc8-667f-4bfb-836d-d985f1023705",
   "metadata": {},
   "outputs": [
    {
     "data": {
      "text/plain": [
       "4"
      ]
     },
     "execution_count": 24,
     "metadata": {},
     "output_type": "execute_result"
    }
   ],
   "source": [
    "2 ** 2"
   ]
  },
  {
   "cell_type": "code",
   "execution_count": 25,
   "id": "9d06230a-af6a-49b7-a36a-b9e223d51cfb",
   "metadata": {},
   "outputs": [
    {
     "data": {
      "text/plain": [
       "4.5675e+23"
      ]
     },
     "execution_count": 25,
     "metadata": {},
     "output_type": "execute_result"
    }
   ],
   "source": [
    "big_distance = 4.5675E23\n",
    "big_distance"
   ]
  },
  {
   "cell_type": "code",
   "execution_count": 26,
   "id": "b4451dbd-b94c-4324-886b-8b79570f0e2f",
   "metadata": {},
   "outputs": [
    {
     "data": {
      "text/plain": [
       "-1.3e-56"
      ]
     },
     "execution_count": 26,
     "metadata": {},
     "output_type": "execute_result"
    }
   ],
   "source": [
    "delta = -1.3e-56\n",
    "delta"
   ]
  },
  {
   "cell_type": "code",
   "execution_count": 27,
   "id": "a54c14bd-9f6c-4857-9d0b-848ec6980372",
   "metadata": {},
   "outputs": [
    {
     "data": {
      "text/plain": [
       "inf"
      ]
     },
     "execution_count": 27,
     "metadata": {},
     "output_type": "execute_result"
    }
   ],
   "source": [
    "big_distance * 1E290"
   ]
  },
  {
   "cell_type": "code",
   "execution_count": 28,
   "id": "ed0e6e53-7985-4fc0-8d54-31640791602f",
   "metadata": {},
   "outputs": [
    {
     "data": {
      "text/plain": [
       "-inf"
      ]
     },
     "execution_count": 28,
     "metadata": {},
     "output_type": "execute_result"
    }
   ],
   "source": [
    "big_distance * -1E290"
   ]
  },
  {
   "cell_type": "code",
   "execution_count": 29,
   "id": "d4faaa5e-00d5-49da-96be-d65ecd4f83a0",
   "metadata": {},
   "outputs": [
    {
     "data": {
      "text/plain": [
       "nan"
      ]
     },
     "execution_count": 29,
     "metadata": {},
     "output_type": "execute_result"
    }
   ],
   "source": [
    "x = big_distance * 1E290\n",
    "y = x / x\n",
    "y"
   ]
  },
  {
   "cell_type": "code",
   "execution_count": 30,
   "id": "6ad115c6-3c77-4641-83e7-fc825527a63e",
   "metadata": {},
   "outputs": [
    {
     "data": {
      "text/plain": [
       "0.0"
      ]
     },
     "execution_count": 30,
     "metadata": {},
     "output_type": "execute_result"
    }
   ],
   "source": [
    "1 / x"
   ]
  },
  {
   "cell_type": "code",
   "execution_count": 31,
   "id": "eed935e6-4ccb-40b4-ad21-d385369d8c0e",
   "metadata": {},
   "outputs": [
    {
     "data": {
      "text/plain": [
       "nan"
      ]
     },
     "execution_count": 31,
     "metadata": {},
     "output_type": "execute_result"
    }
   ],
   "source": [
    "# la valeur nan est propagée dans un calcul\n",
    "y + 3"
   ]
  },
  {
   "cell_type": "markdown",
   "id": "f79c0031-6001-4572-bc7b-2fe8698d9b6b",
   "metadata": {},
   "source": [
    "#### Limite de la précision des flottants"
   ]
  },
  {
   "cell_type": "code",
   "execution_count": 130,
   "id": "4ba3e186-9a00-4887-b2ff-3996091684df",
   "metadata": {},
   "outputs": [
    {
     "data": {
      "text/plain": [
       "0.1"
      ]
     },
     "execution_count": 130,
     "metadata": {},
     "output_type": "execute_result"
    }
   ],
   "source": [
    "prix = 0.1\n",
    "prix"
   ]
  },
  {
   "cell_type": "code",
   "execution_count": 132,
   "id": "14e638d5-d2f8-4d9b-b19d-db7e2ad787dd",
   "metadata": {},
   "outputs": [
    {
     "data": {
      "text/plain": [
       "float"
      ]
     },
     "execution_count": 132,
     "metadata": {},
     "output_type": "execute_result"
    }
   ],
   "source": [
    "type(prix)"
   ]
  },
  {
   "cell_type": "code",
   "execution_count": 34,
   "id": "342f90c4-cb4e-455c-907e-0b7524aa5287",
   "metadata": {},
   "outputs": [
    {
     "data": {
      "text/plain": [
       "0.2"
      ]
     },
     "execution_count": 34,
     "metadata": {},
     "output_type": "execute_result"
    }
   ],
   "source": [
    "2 * prix"
   ]
  },
  {
   "cell_type": "code",
   "execution_count": 35,
   "id": "29216253-2ef1-4599-b90b-6ad5acfa54ac",
   "metadata": {},
   "outputs": [
    {
     "data": {
      "text/plain": [
       "0.30000000000000004"
      ]
     },
     "execution_count": 35,
     "metadata": {},
     "output_type": "execute_result"
    }
   ],
   "source": [
    "3 * prix"
   ]
  },
  {
   "cell_type": "code",
   "execution_count": 36,
   "id": "7b78a89c-ef3e-4e23-a4a4-0f0911d5c968",
   "metadata": {},
   "outputs": [
    {
     "name": "stdout",
     "output_type": "stream",
     "text": [
      "0.1 4.5675e+23 10\n"
     ]
    }
   ],
   "source": [
    "print(prix, big_distance, nombre_stagiaires)"
   ]
  },
  {
   "cell_type": "markdown",
   "id": "bd90662e-b8e2-4a09-a75d-776ae779bd6c",
   "metadata": {},
   "source": [
    "#### Décimaux \n",
    "module decimal, type Decimal: calcul en virgule fixe"
   ]
  },
  {
   "cell_type": "code",
   "execution_count": 38,
   "id": "79ef51cf-36f2-404c-851e-f00a7e32b2c4",
   "metadata": {},
   "outputs": [],
   "source": [
    "# importation: du module decimal, je vais chercher le type Decimal\n",
    "from decimal import Decimal"
   ]
  },
  {
   "cell_type": "code",
   "execution_count": 134,
   "id": "5753cddf-3782-4707-91f6-a311117df2de",
   "metadata": {},
   "outputs": [
    {
     "data": {
      "text/plain": [
       "Decimal('0.1')"
      ]
     },
     "execution_count": 134,
     "metadata": {},
     "output_type": "execute_result"
    }
   ],
   "source": [
    "prix = Decimal('0.1')\n",
    "prix"
   ]
  },
  {
   "cell_type": "code",
   "execution_count": 136,
   "id": "5d138ab3-fd62-411a-96e4-3c3d8b0e659d",
   "metadata": {},
   "outputs": [
    {
     "data": {
      "text/plain": [
       "decimal.Decimal"
      ]
     },
     "execution_count": 136,
     "metadata": {},
     "output_type": "execute_result"
    }
   ],
   "source": [
    "type(prix)"
   ]
  },
  {
   "cell_type": "code",
   "execution_count": 40,
   "id": "68cabd97-5004-4ce6-9462-8db50c7aa414",
   "metadata": {},
   "outputs": [
    {
     "data": {
      "text/plain": [
       "Decimal('0.3')"
      ]
     },
     "execution_count": 40,
     "metadata": {},
     "output_type": "execute_result"
    }
   ],
   "source": [
    "prix * 3"
   ]
  },
  {
   "cell_type": "code",
   "execution_count": 41,
   "id": "531e4be9-3224-4da1-901e-2adfc7999800",
   "metadata": {},
   "outputs": [
    {
     "name": "stdout",
     "output_type": "stream",
     "text": [
      "0.1 0.3\n"
     ]
    }
   ],
   "source": [
    "print(prix, prix * 3)"
   ]
  },
  {
   "cell_type": "markdown",
   "id": "93479839-74c0-435e-b033-03d4da1ec711",
   "metadata": {},
   "source": [
    "#### Bibliothèques de calcul\n",
    "- Modules Python: math, statistics, fractions, random, ...\n",
    "- Modules tiers: NumPy"
   ]
  },
  {
   "cell_type": "code",
   "execution_count": 98,
   "id": "a558087d-d4ef-4fc0-aa05-ce5f3376fe47",
   "metadata": {},
   "outputs": [],
   "source": [
    "import math\n",
    "import statistics\n",
    "# librairies tierces: à installer au préalable (conda install, mamba install, pip install, ...)\n",
    "import numpy as np\n",
    "import matplotlib.pyplot as plt"
   ]
  },
  {
   "cell_type": "code",
   "execution_count": 44,
   "id": "393198d6-a991-4017-83a5-17f717cee3f3",
   "metadata": {},
   "outputs": [
    {
     "data": {
      "text/plain": [
       "3.0"
      ]
     },
     "execution_count": 44,
     "metadata": {},
     "output_type": "execute_result"
    }
   ],
   "source": [
    "math.sqrt(9)"
   ]
  },
  {
   "cell_type": "code",
   "execution_count": 86,
   "id": "c0d1317f-ba0f-4a64-9eda-7d268490ba00",
   "metadata": {},
   "outputs": [
    {
     "data": {
      "text/plain": [
       "10.466666666666667"
      ]
     },
     "execution_count": 86,
     "metadata": {},
     "output_type": "execute_result"
    }
   ],
   "source": [
    "statistics.mean([11.4, 10.3, 9.7])"
   ]
  },
  {
   "cell_type": "code",
   "execution_count": 102,
   "id": "daf650f7-e714-4ac5-bb92-76faa9bfb9a2",
   "metadata": {},
   "outputs": [
    {
     "data": {
      "text/plain": [
       "array([0.00000000e+00, 1.25676274e-03, 2.51352548e-03, ...,\n",
       "       1.25638571e+01, 1.25651139e+01, 1.25663706e+01])"
      ]
     },
     "execution_count": 102,
     "metadata": {},
     "output_type": "execute_result"
    }
   ],
   "source": [
    "x = np.linspace(0, 4 * np.pi, 10_000)\n",
    "x"
   ]
  },
  {
   "cell_type": "code",
   "execution_count": 104,
   "id": "332fd1e3-308f-41cb-bd54-330353f3ac74",
   "metadata": {},
   "outputs": [
    {
     "data": {
      "text/plain": [
       "array([1.        , 0.99999921, 0.99999684, ..., 0.99999684, 0.99999921,\n",
       "       1.        ])"
      ]
     },
     "execution_count": 104,
     "metadata": {},
     "output_type": "execute_result"
    }
   ],
   "source": [
    "y = np.cos(x)\n",
    "y"
   ]
  },
  {
   "cell_type": "code",
   "execution_count": 106,
   "id": "d16ba49d-3989-43bc-a604-0c13a4424684",
   "metadata": {},
   "outputs": [
    {
     "data": {
      "text/plain": [
       "[<matplotlib.lines.Line2D at 0x1b610345910>]"
      ]
     },
     "execution_count": 106,
     "metadata": {},
     "output_type": "execute_result"
    },
    {
     "data": {
      "image/png": "[encoded data removed]",
      "text/plain": [
       "<Figure size 640x480 with 1 Axes>"
      ]
     },
     "metadata": {},
     "output_type": "display_data"
    }
   ],
   "source": [
    "plt.plot(x,y)"
   ]
  },
  {
   "cell_type": "markdown",
   "id": "e5662dfd-af6b-4b31-834d-5c832d37945b",
   "metadata": {
    "collapsed": true,
    "jupyter": {
     "outputs_hidden": true
    }
   },
   "source": [
    "### Textes\n",
    "- type:  'str' (string)\n",
    "- encodage Python 3: unicode (UTF-8)\n",
    "- import/export de données texte avec n'importe quel encodage"
   ]
  },
  {
   "cell_type": "code",
   "execution_count": 118,
   "id": "10392e25-af1c-45f9-b6b5-24ec2e8d1bdb",
   "metadata": {},
   "outputs": [
    {
     "name": "stdout",
     "output_type": "stream",
     "text": [
      "Ceci est une texte\n"
     ]
    }
   ],
   "source": [
    "print(\"Ceci est une texte\")"
   ]
  },
  {
   "cell_type": "code",
   "execution_count": 120,
   "id": "f7f54317-06e1-45a1-ace0-8146e08483ad",
   "metadata": {},
   "outputs": [
    {
     "name": "stdout",
     "output_type": "stream",
     "text": [
      "Montpellier\n",
      "Pau\n"
     ]
    }
   ],
   "source": [
    "ville1 = \"Montpellier\"\n",
    "ville2 = 'Pau'\n",
    "print(ville1)\n",
    "print(ville2)"
   ]
  },
  {
   "cell_type": "code",
   "execution_count": 122,
   "id": "a426087d-0b9f-44b5-83e4-32bf7c75f180",
   "metadata": {},
   "outputs": [
    {
     "data": {
      "text/plain": [
       "'Montpellier'"
      ]
     },
     "execution_count": 122,
     "metadata": {},
     "output_type": "execute_result"
    }
   ],
   "source": [
    "ville1"
   ]
  },
  {
   "cell_type": "code",
   "execution_count": 124,
   "id": "fd8b9588-bd65-48ab-ab67-3d27ed9d706e",
   "metadata": {},
   "outputs": [
    {
     "data": {
      "text/plain": [
       "str"
      ]
     },
     "execution_count": 124,
     "metadata": {},
     "output_type": "execute_result"
    }
   ],
   "source": [
    "type(ville1)"
   ]
  },
  {
   "cell_type": "code",
   "execution_count": 138,
   "id": "b51e423d-e9ad-4840-836b-48afd9121d9c",
   "metadata": {},
   "outputs": [
    {
     "name": "stdout",
     "output_type": "stream",
     "text": [
      "ville : Montpellier\n",
      "température: 18.4\n"
     ]
    }
   ],
   "source": [
    "print(\"ville :\", ville1)\n",
    "print(\"température:\", temperature)"
   ]
  },
  {
   "cell_type": "code",
   "execution_count": 140,
   "id": "6d134c54-226c-4fd7-8e81-d50d9d56c07b",
   "metadata": {},
   "outputs": [
    {
     "name": "stdout",
     "output_type": "stream",
     "text": [
      "à Montpellier , la température est de 18.4\n"
     ]
    }
   ],
   "source": [
    "print(\"à\", ville1, \", la température est de\", temperature)"
   ]
  },
  {
   "cell_type": "code",
   "execution_count": 146,
   "id": "9fc33535-a6ef-4c67-949e-853d9167c3b7",
   "metadata": {},
   "outputs": [
    {
     "name": "stdout",
     "output_type": "stream",
     "text": [
      "\n",
      "Montpellier\n",
      "\n",
      "ville : Montpellier\n",
      "\n",
      "à Montpellier , la température est de 18.4\n"
     ]
    }
   ],
   "source": [
    "# print prend un nombre variable d'arguments par position\n",
    "# Signature: print(*args, sep=' ', end='\\n', file=None, flush=False)\n",
    "print()\n",
    "print(ville1)\n",
    "print()\n",
    "print(\"ville :\", ville1)\n",
    "print()\n",
    "print(\"à\", ville1, \", la température est de\", temperature)"
   ]
  },
  {
   "cell_type": "code",
   "execution_count": 154,
   "id": "00e7ac41-05b6-41bc-a448-3819e1b01226",
   "metadata": {},
   "outputs": [
    {
     "name": "stdout",
     "output_type": "stream",
     "text": [
      "Montpellier Pau\n",
      "Montpellier, Pau, Toulouse\n"
     ]
    }
   ],
   "source": [
    "print(ville1, ville2) # valeur par défaut du paramètre sep=' '\n",
    "\n",
    "# passage de paramètre par nom (keyword): sep=' ,'\n",
    "#NB: paramètres par keyword après ceux par position\n",
    "print(ville1, ville2, \"Toulouse\", sep=', ')"
   ]
  },
  {
   "cell_type": "code",
   "execution_count": 160,
   "id": "a463e1d5-bb60-42d2-b9c7-56b1c6540da2",
   "metadata": {},
   "outputs": [],
   "source": [
    "# Appels erronés:\n",
    "#\n",
    "# print(sep=', ', ville1, ville2, \"Toulouse\")\n",
    "# print(ville1, sep=', ', ville2, \"Toulouse\")\n",
    "# SyntaxError: positional argument follows keyword argument"
   ]
  },
  {
   "cell_type": "code",
   "execution_count": 162,
   "id": "1b59841c-6134-491b-af65-6d5a1177e64c",
   "metadata": {},
   "outputs": [
    {
     "name": "stdout",
     "output_type": "stream",
     "text": [
      "[0.00000000e+00 1.25676274e-03 2.51352548e-03 ... 1.25638571e+01\n",
      " 1.25651139e+01 1.25663706e+01]\n"
     ]
    }
   ],
   "source": [
    "print(x)"
   ]
  },
  {
   "cell_type": "code",
   "execution_count": 164,
   "id": "f1418fe6-0dc3-4ef1-9e3a-c2c04612295c",
   "metadata": {},
   "outputs": [
    {
     "name": "stdout",
     "output_type": "stream",
     "text": [
      "[12, 34, 56, 78, 98]\n"
     ]
    }
   ],
   "source": [
    "print([12, 34, 56, 78, 98])"
   ]
  },
  {
   "cell_type": "markdown",
   "id": "649114ee-4859-4175-9faf-d1681b26a59a",
   "metadata": {},
   "source": [
    "#### Formatted Strings: f-string\n",
    "- https://docs.python.org/3.12/library/string.html#formatstrings\n",
    "- https://docs.python.org/3.12/library/datetime.html#strftime-and-strptime-format-codes"
   ]
  },
  {
   "cell_type": "code",
   "execution_count": 172,
   "id": "f8c43f04-3726-4ba2-8443-3ee87b511d8d",
   "metadata": {},
   "outputs": [
    {
     "name": "stdout",
     "output_type": "stream",
     "text": [
      "à Montpellier, la température est de 18.4\n",
      "à {ville1}, la température est de {temperature}\n"
     ]
    }
   ],
   "source": [
    "# formatted string de python 3.6: démarre par un f\"\"\n",
    "print(f\"à {ville1}, la température est de {temperature}\")\n",
    "print(\"à {ville1}, la température est de {temperature}\")"
   ]
  },
  {
   "cell_type": "code",
   "execution_count": 176,
   "id": "6b2173b7-ca5d-455b-b528-b1d50f3a99b4",
   "metadata": {},
   "outputs": [
    {
     "name": "stdout",
     "output_type": "stream",
     "text": [
      "à Montpellier, la température est de Pau\n"
     ]
    }
   ],
   "source": [
    "# python 3 avant les f-string\n",
    "print(\"à {}, la température est de {}\".format(ville1, ville2))"
   ]
  },
  {
   "cell_type": "code",
   "execution_count": 182,
   "id": "bbfab256-214f-450c-b3dc-9704161f3160",
   "metadata": {},
   "outputs": [
    {
     "name": "stdout",
     "output_type": "stream",
     "text": [
      "à Montpellier, la température est de Pau\n"
     ]
    }
   ],
   "source": [
    "# formattage à l'ancienne: python 1 à 3\n",
    "print(\"à %s, la température est de %s\" % (ville1, ville2))"
   ]
  },
  {
   "cell_type": "code",
   "execution_count": 184,
   "id": "a8517176-b4a1-4b45-a06d-3e61a50e269a",
   "metadata": {},
   "outputs": [
    {
     "data": {
      "text/plain": [
       "0.3333333333333333"
      ]
     },
     "execution_count": 184,
     "metadata": {},
     "output_type": "execute_result"
    }
   ],
   "source": [
    "nb = 1 /3\n",
    "nb"
   ]
  },
  {
   "cell_type": "code",
   "execution_count": 190,
   "id": "e75f206b-4936-42b3-8ece-e26a24969e03",
   "metadata": {},
   "outputs": [
    {
     "name": "stdout",
     "output_type": "stream",
     "text": [
      "nombre = 0.333\n",
      "nombre = 0.667\n"
     ]
    }
   ],
   "source": [
    "# Syntaxe: {variable_ou_une_expression:format}\n",
    "print(f\"nombre = {nb:.3f}\")\n",
    "print(f\"nombre = {2 * nb:.3f}\")"
   ]
  },
  {
   "cell_type": "code",
   "execution_count": 194,
   "id": "1d83cb6c-4c7a-48d6-8142-ba5b66d705f9",
   "metadata": {},
   "outputs": [],
   "source": [
    "from datetime import date"
   ]
  },
  {
   "cell_type": "code",
   "execution_count": 200,
   "id": "e9ab6e3a-b38a-4f35-be8b-fb7738ad68ea",
   "metadata": {},
   "outputs": [
    {
     "name": "stdout",
     "output_type": "stream",
     "text": [
      "aujourd'hui: 2025-03-03\n",
      "aujourd'hui: 03/03/25\n",
      "aujourd'hui: 03/03/2025\n"
     ]
    }
   ],
   "source": [
    "jour = date.today()\n",
    "print(f\"aujourd'hui: {jour}\")\n",
    "print(f\"aujourd'hui: {jour:%d/%m/%y}\")\n",
    "print(f\"aujourd'hui: {jour:%d/%m/%Y}\")"
   ]
  },
  {
   "cell_type": "markdown",
   "id": "395f693d-07a9-4da7-b87c-0ce4eb300277",
   "metadata": {},
   "source": [
    "#### Universalité: unicode\n",
    "En 2024, unicode version 16: ~150k caractères\n",
    "(https://en.wikipedia.org/wiki/Unicode)\n",
    "\n",
    "De nombreuses langues actuelles, anciennes, les emojis sont pris en compte."
   ]
  },
  {
   "cell_type": "code",
   "execution_count": 206,
   "id": "7c149422-1291-4fe8-bf2c-b86c6fd11130",
   "metadata": {},
   "outputs": [
    {
     "name": "stdout",
     "output_type": "stream",
     "text": [
      "東京\n"
     ]
    }
   ],
   "source": [
    "ville_japon = \"東京\"\n",
    "print(ville_japon)"
   ]
  },
  {
   "cell_type": "code",
   "execution_count": 208,
   "id": "fe4009e0-4dbe-4bcb-be77-8fc4d02a674e",
   "metadata": {},
   "outputs": [
    {
     "name": "stdout",
     "output_type": "stream",
     "text": [
      "perroquet: 🦜\n"
     ]
    }
   ],
   "source": [
    "print(\"perroquet: 🦜\")"
   ]
  },
  {
   "cell_type": "markdown",
   "id": "13f5530a-9a83-4d85-8ce8-60c61c8179a6",
   "metadata": {},
   "source": [
    "#### Fonctions natives"
   ]
  },
  {
   "cell_type": "code",
   "execution_count": 229,
   "id": "f3acef35-2169-4868-ac90-d780c782cb2d",
   "metadata": {},
   "outputs": [
    {
     "name": "stdout",
     "output_type": "stream",
     "text": [
      "11\n",
      "10000\n",
      "3\n"
     ]
    }
   ],
   "source": [
    "# fonction native: len (length)\n",
    "\n",
    "print(len(ville1)) # nombre de caractères\n",
    "# NB:\n",
    "print(len(x)) # tableau numpy de 10 000 valeurs\n",
    "print(len([1, 3, 5])) # liste de 3 éléments\n",
    "#print(len(nombre_stagiaires)) #TypeError: object of type 'int' has no len()"
   ]
  },
  {
   "cell_type": "code",
   "execution_count": 231,
   "id": "be602fc5-1042-4b05-9c61-3c22d8a789de",
   "metadata": {},
   "outputs": [
    {
     "data": {
      "text/plain": [
       "'10'"
      ]
     },
     "execution_count": 231,
     "metadata": {},
     "output_type": "execute_result"
    }
   ],
   "source": [
    "nb_stagiaire_str = str(nombre_stagiaires)\n",
    "nb_stagiaire_str"
   ]
  },
  {
   "cell_type": "code",
   "execution_count": 233,
   "id": "f451d80f-bc6e-4fca-abff-8f7dd4a4d87c",
   "metadata": {},
   "outputs": [
    {
     "data": {
      "text/plain": [
       "2"
      ]
     },
     "execution_count": 233,
     "metadata": {},
     "output_type": "execute_result"
    }
   ],
   "source": [
    "len(nb_stagiaire_str)"
   ]
  },
  {
   "cell_type": "markdown",
   "id": "a91812d7-f6c2-4de7-b5e2-54b7e6f18748",
   "metadata": {},
   "source": [
    "#### Méthodes"
   ]
  },
  {
   "cell_type": "code",
   "execution_count": 241,
   "id": "c1b4a8f1-d6f4-4f5c-9034-f7ee3beabadc",
   "metadata": {},
   "outputs": [
    {
     "name": "stdout",
     "output_type": "stream",
     "text": [
      "Montpellier\n",
      "MONTPELLIER\n",
      "montpellier\n"
     ]
    }
   ],
   "source": [
    "print(ville1)\n",
    "print(ville1.upper())\n",
    "print(ville1.lower())"
   ]
  },
  {
   "cell_type": "code",
   "execution_count": 243,
   "id": "828e49f7-dba5-4701-8f9a-b7f05ba37383",
   "metadata": {},
   "outputs": [
    {
     "name": "stdout",
     "output_type": "stream",
     "text": [
      "En Fanfare\n"
     ]
    }
   ],
   "source": [
    "titre = \"en fanfare\"\n",
    "print(titre.title())"
   ]
  },
  {
   "cell_type": "code",
   "execution_count": 251,
   "id": "e62af610-c85c-488c-b5dd-01c044d7b5b2",
   "metadata": {},
   "outputs": [
    {
     "data": {
      "text/plain": [
       "<function str.upper()>"
      ]
     },
     "execution_count": 251,
     "metadata": {},
     "output_type": "execute_result"
    }
   ],
   "source": [
    "# une fonction peut être manipulée comme une donnée\n",
    "ville1.upper"
   ]
  },
  {
   "cell_type": "code",
   "execution_count": 263,
   "id": "01c6e7c1-05ba-4368-9fa6-171a7a98b008",
   "metadata": {},
   "outputs": [
    {
     "name": "stdout",
     "output_type": "stream",
     "text": [
      "True\n",
      "False\n",
      "True\n",
      "False\n"
     ]
    }
   ],
   "source": [
    "# méthodes, opérateurs renvoyant un booléen: True, False\n",
    "print(ville1.startswith('M'))\n",
    "print(ville1.endswith('ts'))\n",
    "print('pel' in ville1)\n",
    "print('pel' not in ville1)"
   ]
  },
  {
   "cell_type": "code",
   "execution_count": 265,
   "id": "ce974a5e-cf28-4051-a724-1b36795b5b06",
   "metadata": {},
   "outputs": [
    {
     "data": {
      "text/plain": [
       "bool"
      ]
     },
     "execution_count": 265,
     "metadata": {},
     "output_type": "execute_result"
    }
   ],
   "source": [
    "type(True)"
   ]
  },
  {
   "cell_type": "markdown",
   "id": "634543bb-10bc-480a-873d-ccbff6defa8b",
   "metadata": {},
   "source": [
    "#### Slices \n",
    "NB: valable aussi pour les listes, tuples, dictionnaires, tableau NumPy, ..."
   ]
  },
  {
   "cell_type": "code",
   "execution_count": 272,
   "id": "fc6daf3f-e22f-4433-b2ea-2de32a995805",
   "metadata": {},
   "outputs": [
    {
     "name": "stdout",
     "output_type": "stream",
     "text": [
      "Montpellier\n",
      "ell\n"
     ]
    }
   ],
   "source": [
    "print(ville1)\n",
    "print(ville1[5:8]) \n",
    "# NB: 1ère lettre numéroté 0\n",
    "#     1er indice inclus\n",
    "#     2e indice exclus"
   ]
  },
  {
   "cell_type": "code",
   "execution_count": 274,
   "id": "08713611-ab20-4700-9807-f35792a69181",
   "metadata": {},
   "outputs": [
    {
     "name": "stdout",
     "output_type": "stream",
     "text": [
      "Montp\n",
      "ell\n",
      "ier\n"
     ]
    }
   ],
   "source": [
    "print(ville1[0:5])\n",
    "print(ville1[5:8])\n",
    "print(ville1[8:11])"
   ]
  },
  {
   "cell_type": "code",
   "execution_count": 307,
   "id": "5e91f221-cebb-48b8-a5d1-93e2db0625fe",
   "metadata": {},
   "outputs": [
    {
     "name": "stdout",
     "output_type": "stream",
     "text": [
      "Montp\n",
      "ell\n",
      "ier\n",
      "Montpellier\n"
     ]
    }
   ],
   "source": [
    "# simplification\n",
    "print(ville1[:5]) # 5 premiers caractères\n",
    "print(ville1[5:8])\n",
    "print(ville1[8:])\n",
    "print(ville1[:])"
   ]
  },
  {
   "cell_type": "code",
   "execution_count": 299,
   "id": "b4dc8b1a-ebfd-403c-a4cc-8274d4d6182e",
   "metadata": {},
   "outputs": [
    {
     "name": "stdout",
     "output_type": "stream",
     "text": [
      "M\n",
      "t\n",
      "r\n"
     ]
    }
   ],
   "source": [
    "# Récupérer un caractère (indice positif)\n",
    "print(ville1[0]) # le '1er'\n",
    "print(ville1[3]) # la lettre n°3 (numérotée à partir de 0), la 4e lettre\n",
    "print(ville1[10]) # length  - 1\n",
    "# print(ville1[11]) # IndexError: string index out of range"
   ]
  },
  {
   "cell_type": "code",
   "execution_count": 305,
   "id": "28381ead-d66c-4752-b16b-569e4e3fd342",
   "metadata": {},
   "outputs": [
    {
     "name": "stdout",
     "output_type": "stream",
     "text": [
      "r\n",
      "i\n",
      "M\n"
     ]
    }
   ],
   "source": [
    "# Récupérer un caractère (indice positif)\n",
    "print(ville1[-1])\n",
    "print(ville1[-3]) # la 3e lettre en partant de la fin: len(villes)-3\n",
    "print(ville1[-11])\n",
    "# print(ville1[-12]) # IndexError: string index out of range"
   ]
  },
  {
   "cell_type": "code",
   "execution_count": 290,
   "id": "aa80714b-5bdb-403b-9cac-c7aa10c734f2",
   "metadata": {},
   "outputs": [
    {
     "name": "stdout",
     "output_type": "stream",
     "text": [
      "ier\n",
      "Montpell\n"
     ]
    }
   ],
   "source": [
    "# slices avec indice négatif\n",
    "print(ville1[-3:]) # 3 derniers caractères\n",
    "print(ville1[:-3]) # tous sauf les 3 derniers"
   ]
  },
  {
   "cell_type": "code",
   "execution_count": 309,
   "id": "ebd0ec22-fa70-41a9-862b-3cf8c4b94860",
   "metadata": {},
   "outputs": [
    {
     "data": {
      "text/plain": [
       "3"
      ]
     },
     "execution_count": 309,
     "metadata": {},
     "output_type": "execute_result"
    }
   ],
   "source": [
    "p = ville1.index('t')\n",
    "p"
   ]
  },
  {
   "cell_type": "code",
   "execution_count": 317,
   "id": "b8b75ec2-6b34-4a89-8d0d-e8094e9f0e6d",
   "metadata": {},
   "outputs": [
    {
     "name": "stdout",
     "output_type": "stream",
     "text": [
      "t\n",
      "Mon\n",
      "tpellier\n",
      "pellier\n"
     ]
    }
   ],
   "source": [
    "print(ville1[p])\n",
    "print(ville1[:p])\n",
    "print(ville1[p:])\n",
    "print(ville1[p+1:])"
   ]
  },
  {
   "cell_type": "code",
   "execution_count": 331,
   "id": "1797911c-8be0-4fef-b106-2d0d4a18c68c",
   "metadata": {},
   "outputs": [
    {
     "name": "stdout",
     "output_type": "stream",
     "text": [
      "Mnplir\n",
      "otele\n",
      "reilleptnoM\n",
      "npl\n"
     ]
    }
   ],
   "source": [
    "# slice avec pas (par défaut: pas=1)\n",
    "print(ville1[::2])\n",
    "print(ville1[1::2])\n",
    "print(ville1[::-1])\n",
    "print(ville1[2:7:2])"
   ]
  },
  {
   "cell_type": "code",
   "execution_count": 333,
   "id": "0b894d8a-fea6-4768-882b-c15eb0a43240",
   "metadata": {},
   "outputs": [
    {
     "name": "stdout",
     "output_type": "stream",
     "text": [
      "[ 0.          1.25676274  2.51352548  3.77028821  5.02705095  6.28381369\n",
      "  7.54057643  8.79733916 10.0541019  11.31086464]\n",
      "[0.         0.00125676 0.00251353 0.00377029 0.00502705 0.00628381\n",
      " 0.00754058 0.00879734 0.0100541  0.01131086]\n"
     ]
    }
   ],
   "source": [
    "# NB: slice numérique\n",
    "# 1 échantillon avec 1 valeur sur 1000\n",
    "print(x[::1000])\n",
    "# 1 échantillon avec les 10 premières valeurs\n",
    "print(x[:10])"
   ]
  },
  {
   "cell_type": "markdown",
   "id": "0684c19f-c745-4408-ae06-e35ce42b9fd9",
   "metadata": {},
   "source": [
    "### Exercice\n",
    "Fabriquer un code à partir des 3 premières lettres en majuscule,\n",
    "le compteur (avec padding à 5 chiffres avec 0), la lettre D, le département (avec padding à 3 chiffres)\n",
    "Ex: MON1237D34 (sans padding) puis MON01237D034 (avec padding)"
   ]
  },
  {
   "cell_type": "code",
   "execution_count": 336,
   "id": "e700f426-0b32-4ef8-aac7-cc28ef7f9162",
   "metadata": {},
   "outputs": [],
   "source": [
    "ville = ville1 # ou n'importe laquelle\n",
    "compteur = 1237\n",
    "département = 34"
   ]
  }
 ],
 "metadata": {
  "kernelspec": {
   "display_name": "Python 3 (ipykernel)",
   "language": "python",
   "name": "python3"
  },
  "language_info": {
   "codemirror_mode": {
    "name": "ipython",
    "version": 3
   },
   "file_extension": ".py",
   "mimetype": "text/x-python",
   "name": "python",
   "nbconvert_exporter": "python",
   "pygments_lexer": "ipython3",
   "version": "3.12.3"
  }
 },
 "nbformat": 4,
 "nbformat_minor": 5
}
